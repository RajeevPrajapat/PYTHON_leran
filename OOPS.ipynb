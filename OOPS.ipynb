{
  "cells": [
    {
      "cell_type": "code",
      "execution_count": null,
      "metadata": {
        "id": "yXslKnKOGpEs"
      },
      "outputs": [],
      "source": [
        "##OOPS"
      ]
    },
    {
      "cell_type": "markdown",
      "metadata": {
        "id": "zjL9qMysIJdJ"
      },
      "source": [
        "# Answer Sheet\n",
        "\n",
        "## 1. What is Object-Oriented Programming (OOP)?\n",
        "Object-Oriented Programming (OOP) is a programming paradigm that organizes software design around data, or objects, rather than functions and logic. It allows developers to create classes that encapsulate both data and behavior, promoting code reusability, modularity, and a clear structure. OOP emphasizes key principles such as encapsulation, inheritance, and polymorphism, which facilitate easier maintenance and scalability of code.\n",
        "\n",
        "## 2. What is a class in OOP?\n",
        "A class in OOP serves as a blueprint for creating objects. It defines a set of attributes (data) and methods (functions) that the created objects will possess. Classes encapsulate data and provide methods to manipulate that data, allowing for a structured approach to programming. By using classes, developers can create multiple instances (objects) that share the same structure and behavior, promoting code reusability and organization.\n",
        "\n",
        "## 3. What is an object in OOP?\n",
        "An object is an instance of a class, created based on the class blueprint. It contains specific data and methods defined by the class, representing real-world entities or concepts. Objects can interact with one another and can maintain their own state, allowing for complex behaviors and relationships in a program. Each object can have unique attributes while sharing the same methods, enabling polymorphism and encapsulation.\n",
        "\n",
        "## 4. What is the difference between abstraction and encapsulation?\n",
        "Abstraction and encapsulation are fundamental concepts in OOP, but they serve different purposes. Abstraction focuses on hiding the complex implementation details of a system while exposing only the necessary features to the user. It emphasizes what an object does rather than how it does it. Encapsulation, on the other hand, is the bundling of data and methods that operate on that data within a single unit (class). It restricts direct access to some components, promoting data protection and integrity.\n",
        "\n",
        "## 5. What are dunder methods in Python?\n",
        "Dunder methods, short for \"double underscore\" methods, are special methods in Python that begin and end with double underscores. These methods allow developers to define the behavior of objects for built-in operations, such as object initialization (`__init__`), string representation (`__str__`), and arithmetic operations (`__add__`). By implementing dunder methods, developers can customize how objects behave in various contexts, making their classes more intuitive and user-friendly.\n",
        "\n",
        "## 6. Explain the concept of inheritance in OOP.\n",
        "Inheritance is a key feature of OOP that allows a new class (child class) to inherit attributes and methods from an existing class (parent class). This mechanism promotes code reusability, as the child class can use and extend the functionality of the parent class without rewriting code. Inheritance establishes a hierarchical relationship between classes, enabling polymorphism and allowing for the creation of more specialized classes that build upon the base functionality.\n",
        "\n",
        "## 7. What is polymorphism in OOP?\n",
        "Polymorphism is the ability of different classes to be treated as instances of the same class through a common interface. It allows methods to perform different tasks based on the object it is acting upon, enabling flexibility in code. Polymorphism can be achieved through method overriding, where a derived class provides a specific implementation of a method already defined in its base class, or through method overloading, where multiple methods share the same name but differ in parameters.\n",
        "\n",
        "## 8. How is encapsulation achieved in Python?\n",
        "Encapsulation in Python is achieved by using access modifiers to restrict access to certain attributes and methods of a class. Attributes and methods can be made private by prefixing them with double underscores (`__`), which prevents access from outside the class. Protected members can be prefixed with a single underscore (`_`), indicating that they should not be accessed directly. This encapsulation helps maintain the integrity of the data and prevents unintended interference from external code.\n",
        "\n",
        "## 9. What is a constructor in Python?\n",
        "A constructor in Python is a special method called `__init__` that is automatically invoked when an object of a class is created. It is used to initialize the object's attributes and set up any necessary state. The constructor can take parameters to allow for dynamic initialization of object attributes, providing flexibility in how objects are created. By defining a constructor, developers can ensure that objects are in a valid state immediately upon creation.\n",
        "\n",
        "## 10. What are class and static methods in Python?\n",
        "Class methods and static methods are two types of methods in Python that differ in how they are bound to the class. Class methods are defined using the `@classmethod` decorator and take `cls` as the first parameter, allowing them to access class-level attributes and methods. Static methods, defined using the `@staticmethod` decorator, do not take any special first parameter and can be called on the class or instance without needing access to class or instance data. Both types of methods provide different ways to organize functionality within a class.\n",
        "\n",
        "## 11. What is method overloading in Python?\n",
        "Method overloading refers to the ability to define multiple methods with the same name but different parameters within a class. However, Python does not support traditional method overloading as seen in some other programming languages. Instead, Python allows for default parameters and variable-length arguments, enabling a single method to handle different types or numbers of arguments. This flexibility allows developers to create more versatile methods that can adapt to various input scenarios.\n",
        "\n",
        "## 12. What is method overriding in OOP?\n",
        "Method overriding occurs when a derived class provides a specific implementation of a method that is already defined in its base class. This allows the derived class to modify or extend the behavior of the base class method. By overriding methods, developers can create specialized behavior in subclasses while maintaining a consistent interface. This is a key feature of polymorphism, enabling objects of different classes to be treated as instances of the same class.\n",
        "\n",
        "## 13. What is a property decorator in Python?\n",
        "A property decorator in Python is a built-in decorator that allows a method to be accessed like an attribute. It is defined using the `@property` decorator, which enables the creation of getter, setter, and deleter methods for an attribute. This approach provides a way to manage access to an attribute while maintaining a clean and intuitive interface. By using property decorators, developers can enforce encapsulation and validation logic without changing how attributes are accessed.\n",
        "\n",
        "## 14. Why is polymorphism important in OOP?\n",
        "Polymorphism is important in OOP because it allows for flexibility and the ability to use a unified interface for different data types. It enables methods to be defined in a way that they can operate on objects of different classes, promoting code reusability and reducing complexity. Polymorphism facilitates the implementation of dynamic behavior, allowing developers to write more generic and adaptable code that can work with various object types, enhancing maintainability and scalability.\n",
        "\n",
        "## 15. What is an abstract class in Python?\n",
        "An abstract class in Python is a class that cannot be instantiated and is intended to be subclassed. It can contain abstract methods, which are methods that are declared but contain no implementation. Subclasses of the abstract class must provide concrete implementations for these abstract methods. Abstract classes are defined using the `abc` module, and they serve as a blueprint for other classes, enforcing a contract for subclasses to follow, which promotes a consistent interface.\n",
        "\n",
        "## 16. What are the advantages of OOP?\n",
        "The advantages of OOP include improved code organization and modularity, as it allows developers to group related data and behavior into classes. OOP promotes code reusability through inheritance, enabling the creation of new classes based on existing ones. It also enhances data protection through encapsulation, which restricts access to certain components. Additionally, polymorphism allows for flexibility in code, making it easier to extend and maintain. Overall, OOP leads to more manageable and scalable software development.\n",
        "\n",
        "## 17. What is the difference between a class variable and an instance variable?\n",
        "A class variable is a variable that is shared among all instances of a class. It is defined within the class but outside any instance methods and is accessed using the class name or through instances. In contrast, an instance variable is specific to a particular instance of a class. It is defined within instance methods, typically in the constructor, and is accessed using the instance itself. The key difference lies in their scope: class variables are shared, while instance variables are unique to each object.\n",
        "\n",
        "## 18. What is multiple inheritance in Python?\n",
        "Multiple inheritance is a feature in Python that allows a class to inherit from more than one parent class. This enables the derived class to combine attributes and methods from multiple base classes, promoting code reusability and flexibility. However, multiple inheritance can lead to complexity, particularly with the \"diamond problem,\" where ambiguity arises if two parent classes define the same method. Python uses the Method Resolution Order (MRO) to determine the order in which classes are searched for methods and attributes.\n",
        "\n",
        "## 19. Explain the purpose of `__str__` and `__repr__` methods in Python.\n",
        "The `__str__` and `__repr__` methods in Python are special methods used to define string representations of objects. The `__str__` method is intended to provide a user-friendly string representation of an object, which is typically more readable and suitable for display to end-users. In contrast, the `__repr__` method is meant to provide an unambiguous representation of the object, ideally one that could be used to recreate the object if passed to the `eval()` function. The `__repr__` method is often used for debugging and logging.\n",
        "\n",
        "## 20. What is the significance of the `super()` function in Python?\n",
        "The `super()` function in Python is used to call methods from a parent class in a derived class. It provides a way to access inherited methods that have been overridden in a subclass. By using `super()`, developers can ensure that the parent class's methods are\n",
        "\n",
        "## 21. What is the significance of the `__del__` method in Python?\n",
        "The `__del__` method in Python is a special method that is called when an object is about to be destroyed. It is often referred to as a destructor. The primary purpose of the `__del__` method is to define any cleanup actions that need to be performed before an object is removed from memory, such as closing files or releasing resources. However, its use is generally discouraged because the timing of its invocation is not guaranteed, especially in the presence of circular references. Developers should prefer context managers or explicit cleanup methods for resource management.\n",
        "\n",
        "## 22. What is the difference between `@staticmethod` and `@classmethod` in Python?\n",
        "The `@staticmethod` and `@classmethod` decorators in Python are used to define methods that are associated with a class rather than an instance of the class. A `@staticmethod` does not take any special first parameter (like `self` or `cls`) and cannot access or modify class or instance state. It behaves like a regular function but belongs to the class's namespace. In contrast, a `@classmethod` takes `cls` as its first parameter, allowing it to access and modify class-level attributes and methods. This distinction makes class methods useful for factory methods or methods that need to operate on class-level data.\n",
        "\n",
        "## 23. How does polymorphism work in Python with inheritance?\n",
        "Polymorphism in Python works with inheritance by allowing methods in different classes to be called through the same interface. When a base class defines a method, derived classes can override that method to provide specific implementations. This means that a single function can operate on objects of different classes, as long as those classes implement the method with the same name. For example, if a base class `Animal` has a method `speak()`, both `Dog` and `Cat` classes can override this method to provide their own implementations. When calling `speak()` on an `Animal` reference that points to a `Dog` or `Cat` object, the appropriate method is executed, demonstrating polymorphism.\n",
        "\n",
        "## 24. What is method chaining in Python OOP?\n",
        "Method chaining in Python OOP is a programming technique where multiple method calls are made on the same object in a single statement. This is achieved by having each method return the object itself (usually `self`) after performing its operation. Method chaining allows for more concise and readable code, as it reduces the need for intermediate variables. For example, if a class has methods `set_x()`, `set_y()`, and `set_z()`, they can be chained together like this: `obj.set_x(1).set_y(2).set_z(3)`. This technique is commonly used in fluent interfaces and builder patterns.\n",
        "\n",
        "## 25. What is the purpose of the `__call__` method in Python?\n",
        "The `__call__` method in Python allows an instance of a class to be called as if it were a function. By defining the `__call__` method in a class, you can create objects that can be invoked directly, enabling a more functional programming style. This can be useful for creating callable objects that maintain state or encapsulate behavior. For example, if a class represents a mathematical operation, implementing `__call__` allows instances of that class to be used directly to perform calculations. This feature enhances the flexibility and expressiveness of your code."
      ]
    },
    {
      "cell_type": "code",
      "execution_count": null,
      "metadata": {
        "colab": {
          "base_uri": "https://localhost:8080/",
          "height": 35
        },
        "id": "_aAgZCnZIKGj",
        "outputId": "3d3eed2f-46bc-4785-a2b2-3fa3dfb849f6"
      },
      "outputs": [
        {
          "data": {
            "application/vnd.google.colaboratory.intrinsic+json": {
              "type": "string"
            },
            "text/plain": [
              "'Pracical question'"
            ]
          },
          "execution_count": 1,
          "metadata": {},
          "output_type": "execute_result"
        }
      ],
      "source": [
        "'''Pracical question'''"
      ]
    },
    {
      "cell_type": "code",
      "execution_count": 1,
      "metadata": {
        "id": "rZA3JEHUJ1eQ"
      },
      "outputs": [
        {
          "name": "stdout",
          "output_type": "stream",
          "text": [
            "Bark!\n"
          ]
        }
      ],
      "source": [
        "# 1. Create a parent class Animal with a method speak() that prints a generic message.\n",
        "class Animal:\n",
        "    def speak(self):\n",
        "        print(\"Animal speaks\")\n",
        "\n",
        "class Dog(Animal):\n",
        "    def speak(self):\n",
        "        print(\"Bark!\")\n",
        "\n",
        "# Example usage\n",
        "dog = Dog()\n",
        "dog.speak()  # Output: Bark!"
      ]
    },
    {
      "cell_type": "code",
      "execution_count": 2,
      "metadata": {
        "id": "3RUuqG8AJ1Yw"
      },
      "outputs": [
        {
          "name": "stdout",
          "output_type": "stream",
          "text": [
            "78.53981633974483\n",
            "24\n"
          ]
        }
      ],
      "source": [
        "# 2. Write a program to create an abstract class Shape with a method area().\n",
        "from abc import ABC, abstractmethod\n",
        "import math\n",
        "\n",
        "class Shape(ABC):\n",
        "    @abstractmethod\n",
        "    def area(self):\n",
        "        pass\n",
        "\n",
        "class Circle(Shape):\n",
        "    def __init__(self, radius):\n",
        "        self.radius = radius\n",
        "\n",
        "    def area(self):\n",
        "        return math.pi * (self.radius ** 2)\n",
        "\n",
        "class Rectangle(Shape):\n",
        "    def __init__(self, width, height):\n",
        "        self.width = width\n",
        "        self.height = height\n",
        "\n",
        "    def area(self):\n",
        "        return self.width * self.height\n",
        "\n",
        "# Example usage\n",
        "circle = Circle(5)\n",
        "rectangle = Rectangle(4, 6)\n",
        "print(circle.area())  # Output: Area of circle\n",
        "print(rectangle.area())  # Output: Area of rectangle\n"
      ]
    },
    {
      "cell_type": "code",
      "execution_count": 3,
      "metadata": {
        "id": "JLOxVduwJ7hw"
      },
      "outputs": [
        {
          "name": "stdout",
          "output_type": "stream",
          "text": [
            "Electric Tesla Model S 100 kWh\n"
          ]
        }
      ],
      "source": [
        "# 3. Implement a multi-level inheritance scenario where a class Vehicle has an attribute type.\n",
        "class Vehicle:\n",
        "    def __init__(self, vehicle_type):\n",
        "        self.vehicle_type = vehicle_type\n",
        "\n",
        "class Car(Vehicle):\n",
        "    def __init__(self, vehicle_type, model):\n",
        "        super().__init__(vehicle_type)\n",
        "        self.model = model\n",
        "\n",
        "class ElectricCar(Car):\n",
        "    def __init__(self, vehicle_type, model, battery):\n",
        "        super().__init__(vehicle_type, model)\n",
        "        self.battery = battery\n",
        "\n",
        "# Example usage\n",
        "electric_car = ElectricCar(\"Electric\", \"Tesla Model S\", \"100 kWh\")\n",
        "print(electric_car.vehicle_type, electric_car.model, electric_car.battery)  # Output: Electric Tesla Model S 100 kWh\n"
      ]
    },
    {
      "cell_type": "code",
      "execution_count": 4,
      "metadata": {
        "id": "HE9w-HZHJ7ZL"
      },
      "outputs": [
        {
          "name": "stdout",
          "output_type": "stream",
          "text": [
            "Sparrow is flying\n",
            "Penguins can't fly\n"
          ]
        }
      ],
      "source": [
        "# 4. Demonstrate polymorphism by creating a base class Bird with a method fly().\n",
        "class Bird:\n",
        "    def fly(self):\n",
        "        print(\"Bird is flying\")\n",
        "\n",
        "class Sparrow(Bird):\n",
        "    def fly(self):\n",
        "        print(\"Sparrow is flying\")\n",
        "\n",
        "class Penguin(Bird):\n",
        "    def fly(self):\n",
        "        print(\"Penguins can't fly\")\n",
        "\n",
        "# Example usage\n",
        "birds = [Sparrow(), Penguin()]\n",
        "for bird in birds:\n",
        "    bird.fly()  # Output: Sparrow is flying, Penguins can't fly"
      ]
    },
    {
      "cell_type": "code",
      "execution_count": 6,
      "metadata": {
        "colab": {
          "base_uri": "https://localhost:8080/"
        },
        "id": "vp2BQsMNKHHp",
        "outputId": "2f6a51d1-546e-41f7-9d1c-5aedbdabfda2"
      },
      "outputs": [
        {
          "name": "stdout",
          "output_type": "stream",
          "text": [
            "Deposited: 100\n",
            "Withdrawn: 90\n",
            "10\n"
          ]
        }
      ],
      "source": [
        "# 5. Write a program to demonstrate encapsulation by creating a class BankAccount.\n",
        "class BankAccount:\n",
        "    def __init__(self):\n",
        "        self.__balance = 0  # Private attribute\n",
        "\n",
        "    def deposit(self, amount):\n",
        "        if amount > 0:\n",
        "            self.__balance += amount\n",
        "            print(f\"Deposited: {amount}\")\n",
        "\n",
        "    def withdraw(self, amount):\n",
        "        if 0 < amount <= self.__balance:\n",
        "            self.__balance -= amount\n",
        "            print(f\"Withdrawn: {amount}\")\n",
        "        else:\n",
        "            print(\"Insufficient funds\")\n",
        "\n",
        "    def check_balance(self):\n",
        "        return self.__balance\n",
        "\n",
        "# Example usage\n",
        "account = BankAccount()\n",
        "account.deposit(100)\n",
        "account.withdraw(90)\n",
        "print(account.check_balance())  # Output: 50"
      ]
    },
    {
      "cell_type": "code",
      "execution_count": 7,
      "metadata": {
        "id": "Y-7ejhx7KG_G"
      },
      "outputs": [
        {
          "name": "stdout",
          "output_type": "stream",
          "text": [
            "Strumming the guitar\n",
            "Playing the piano\n"
          ]
        }
      ],
      "source": [
        "# 6. Demonstrate runtime polymorphism using a method play() in a base class Instrument.\n",
        "class Instrument:\n",
        "    def play(self):\n",
        "        print(\"Playing instrument\")\n",
        "\n",
        "class Guitar(Instrument):\n",
        "    def play(self):\n",
        "        print(\"Strumming the guitar\")\n",
        "\n",
        "class Piano(Instrument):\n",
        "    def play(self):\n",
        "        print(\"Playing the piano\")\n",
        "\n",
        "# Example usage\n",
        "instruments = [Guitar(), Piano()]\n",
        "for instrument in instruments:\n",
        "    instrument.play()  # Output: Strumming the guitar, Playing the piano"
      ]
    },
    {
      "cell_type": "code",
      "execution_count": 8,
      "metadata": {
        "id": "a3v8_4R8KN_L"
      },
      "outputs": [
        {
          "name": "stdout",
          "output_type": "stream",
          "text": [
            "8\n",
            "2\n"
          ]
        }
      ],
      "source": [
        "\n",
        "# 7. Create a class MathOperations with a class method add_numbers() and a static method subtract_numbers().\n",
        "class MathOperations:\n",
        "    @classmethod\n",
        "    def add_numbers(cls, a, b):\n",
        "        return a + b\n",
        "\n",
        "    @staticmethod\n",
        "    def subtract_numbers(a, b):\n",
        "        return a - b\n",
        "\n",
        "# Example usage\n",
        "print(MathOperations.add_numbers(5, 3))  # Output: 8\n",
        "print(MathOperations.subtract_numbers(5, 3))  # Output: 2"
      ]
    },
    {
      "cell_type": "code",
      "execution_count": 9,
      "metadata": {
        "id": "23ykAnStKQYQ"
      },
      "outputs": [
        {
          "name": "stdout",
          "output_type": "stream",
          "text": [
            "2\n"
          ]
        }
      ],
      "source": [
        "# 8. Implement a class Person with a class method to count the total number of persons created.\n",
        "class Person:\n",
        "    count = 0  # Class variable to keep track of the number of persons\n",
        "\n",
        "    def __init__(self):\n",
        "        Person.count += 1\n",
        "\n",
        "    @classmethod\n",
        "    def total_persons(cls):\n",
        "        return cls.count\n",
        "\n",
        "# Example usage\n",
        "p1 = Person()\n",
        "p2 = Person()\n",
        "print(Person.total_persons())  # Output: 2"
      ]
    },
    {
      "cell_type": "code",
      "execution_count": 10,
      "metadata": {
        "id": "YzRpzY8HJaZi"
      },
      "outputs": [],
      "source": [
        "# 9. Write a class Fraction with attributes numerator and denominator.\n",
        "class Fraction:\n",
        "    def __init__(self, numerator, denominator):\n",
        "        self.numerator = numerator\n",
        "        self.denominator = denominator"
      ]
    },
    {
      "cell_type": "code",
      "execution_count": 11,
      "metadata": {
        "id": "7FgtU2u9N3hK"
      },
      "outputs": [
        {
          "name": "stdout",
          "output_type": "stream",
          "text": [
            "Vector(6, 8)\n"
          ]
        }
      ],
      "source": [
        "# 10. Demonstrate operator overloading by creating a class Vector.\n",
        "class Vector:\n",
        "    def __init__(self, x, y):\n",
        "        self.x = x\n",
        "        self.y = y\n",
        "\n",
        "    def __add__(self, other):\n",
        "        return Vector(self.x + other.x, self.y + other.y)\n",
        "\n",
        "    def __repr__(self):\n",
        "        return f\"Vector({self.x}, {self.y})\"\n",
        "\n",
        "# Example usage\n",
        "v1 = Vector(2, 3)\n",
        "v2 = Vector(4, 5)\n",
        "result = v1 + v2\n",
        "print(result)  # Output: Vector(6, 8)\n"
      ]
    },
    {
      "cell_type": "code",
      "execution_count": 13,
      "metadata": {
        "id": "YarJ181bN3Yv"
      },
      "outputs": [
        {
          "name": "stdout",
          "output_type": "stream",
          "text": [
            "Hello, my name is Rajeev and I am 21 years old.\n"
          ]
        }
      ],
      "source": [
        "# 11. Create a class Person with attributes name and age.\n",
        "class Person:\n",
        "    def __init__(self, name, age):\n",
        "        self.name = name\n",
        "        self.age = age\n",
        "\n",
        "    def greet(self):\n",
        "        print(f\"Hello, my name is {self.name} and I am {self.age} years old.\")\n",
        "\n",
        "# Example usage\n",
        "person = Person(\"Rajeev\", 21)\n",
        "person.greet()  # Output: Hello, my name is Alice and I am 30 years old.\n"
      ]
    },
    {
      "cell_type": "code",
      "execution_count": 14,
      "metadata": {
        "id": "NayFwCgyN9E-"
      },
      "outputs": [
        {
          "name": "stdout",
          "output_type": "stream",
          "text": [
            "Bob's average grade is 84.33\n"
          ]
        }
      ],
      "source": [
        "# 12. Implement a class Student with attributes name and grades.\n",
        "class Student:\n",
        "    def __init__(self, name, grades):\n",
        "        self.name = name\n",
        "        self.grades = grades\n",
        "\n",
        "    def average_grade(self):\n",
        "        return sum(self.grades) / len(self.grades)\n",
        "\n",
        "# Example usage\n",
        "student = Student(\"Bob\", [85, 90, 78])\n",
        "print(f\"{student.name}'s average grade is {student.average_grade():.2f}\")  # Output: Bob's average grade is 84.33\n"
      ]
    },
    {
      "cell_type": "code",
      "execution_count": 15,
      "metadata": {
        "id": "AiXZ2rKAN87X"
      },
      "outputs": [
        {
          "name": "stdout",
          "output_type": "stream",
          "text": [
            "Area of rectangle: 20\n"
          ]
        }
      ],
      "source": [
        "# 13. Create a class Rectangle with methods set_dimensions() and area().\n",
        "class Rectangle:\n",
        "    def __init__(self):\n",
        "        self.width = 0\n",
        "        self.height = 0\n",
        "\n",
        "    def set_dimensions(self, width, height):\n",
        "        self.width = width\n",
        "        self.height = height\n",
        "\n",
        "    def area(self):\n",
        "        return self.width * self.height\n",
        "\n",
        "# Example usage\n",
        "rectangle = Rectangle()\n",
        "rectangle.set_dimensions(4, 5)\n",
        "print(f\"Area of rectangle: {rectangle.area()}\")  # Output: Area of rectangle: 20\n"
      ]
    },
    {
      "cell_type": "code",
      "execution_count": 16,
      "metadata": {
        "id": "wqfreyIoN8yP"
      },
      "outputs": [
        {
          "name": "stdout",
          "output_type": "stream",
          "text": [
            "Manager's salary: 3000\n"
          ]
        }
      ],
      "source": [
        "# 14. Create a class Employee with a method calculate_salary().\n",
        "class Employee:\n",
        "    def __init__(self, hours_worked, hourly_rate):\n",
        "        self.hours_worked = hours_worked\n",
        "        self.hourly_rate = hourly_rate\n",
        "\n",
        "    def calculate_salary(self):\n",
        "        return self.hours_worked * self.hourly_rate\n",
        "\n",
        "class Manager(Employee):\n",
        "    def __init__(self, hours_worked, hourly_rate, bonus):\n",
        "        super().__init__(hours_worked, hourly_rate)\n",
        "        self.bonus = bonus\n",
        "\n",
        "    def calculate_salary(self):\n",
        "        return super().calculate_salary() + self.bonus\n",
        "\n",
        "# Example usage\n",
        "manager = Manager(40, 50, 1000)\n",
        "print(f\"Manager's salary: {manager.calculate_salary()}\")  # Output: Manager's salary: 3000\n",
        "\n"
      ]
    },
    {
      "cell_type": "code",
      "execution_count": 17,
      "metadata": {
        "id": "k1OvndnlOT2t"
      },
      "outputs": [
        {
          "name": "stdout",
          "output_type": "stream",
          "text": [
            "Total price of Laptop: 3000\n"
          ]
        }
      ],
      "source": [
        "# 15. Create a class Product with attributes name, price, and quantity.\n",
        "class Product:\n",
        "    def __init__(self, name, price, quantity):\n",
        "        self.name = name\n",
        "        self.price = price\n",
        "        self.quantity = quantity\n",
        "\n",
        "    def total_price(self):\n",
        "        return self.price * self.quantity\n",
        "\n",
        "# Example usage\n",
        "product = Product(\"Laptop\", 1000, 3)\n",
        "print(f\"Total price of {product.name}: {product.total_price()}\")  # Output: Total price of Laptop: 3000\n"
      ]
    },
    {
      "cell_type": "code",
      "execution_count": 18,
      "metadata": {
        "id": "CEKRiTnMOTwc"
      },
      "outputs": [
        {
          "name": "stdout",
          "output_type": "stream",
          "text": [
            "Moo\n",
            "Baa\n"
          ]
        }
      ],
      "source": [
        "# 16. Create a class Animal with an abstract method sound().\n",
        "from abc import ABC, abstractmethod\n",
        "\n",
        "class Animal(ABC):\n",
        "    @abstractmethod\n",
        "    def sound(self):\n",
        "        pass\n",
        "\n",
        "class Cow(Animal):\n",
        "    def sound(self):\n",
        "        return \"Moo\"\n",
        "\n",
        "class Sheep(Animal):\n",
        "    def sound(self):\n",
        "        return \"Baa\"\n",
        "\n",
        "# Example usage\n",
        "animals = [Cow(), Sheep()]\n",
        "for animal in animals:\n",
        "    print(animal.sound())  # Output: Moo, Baa"
      ]
    },
    {
      "cell_type": "code",
      "execution_count": 19,
      "metadata": {
        "id": "5bWXuPOyOiqq"
      },
      "outputs": [
        {
          "name": "stdout",
          "output_type": "stream",
          "text": [
            "1984 by George Orwell, published in 1949\n"
          ]
        }
      ],
      "source": [
        "# 17. Create a class Book with attributes title, author, and year_published.\n",
        "class Book:\n",
        "    def __init__(self, title, author, year_published):\n",
        "        self.title = title\n",
        "        self.author = author\n",
        "        self.year_published = year_published\n",
        "\n",
        "    def get_book_info(self):\n",
        "        return f\"{self.title} by {self.author}, published in {self.year_published}\"\n",
        "\n",
        "# Example usage\n",
        "book = Book(\"1984\", \"George Orwell\", 1949)\n",
        "print(book.get_book_info())  # Output: 1984 by George Orwell, published in 1949\n",
        "\n"
      ]
    },
    {
      "cell_type": "code",
      "execution_count": 21,
      "metadata": {
        "id": "OXXRiCTmOik9"
      },
      "outputs": [
        {
          "name": "stdout",
          "output_type": "stream",
          "text": [
            "Address: 123 Luxury Lane, Price: 1500000, Rooms: 10\n"
          ]
        }
      ],
      "source": [
        "# 18. Create a class House with attributes address and price.\n",
        "class House:\n",
        "    def __init__(self, address, price):\n",
        "        self.address = address\n",
        "        self.price = price\n",
        "\n",
        "class Mansion(House):\n",
        "    def __init__(self, address, price, number_of_rooms):\n",
        "        super().__init__(address, price)\n",
        "        self.number_of_rooms = number_of_rooms\n",
        "\n",
        "# Example usage\n",
        "mansion = Mansion(\"123 Luxury Lane\", 1_500_000, 10)\n",
        "print(f\"Address: {mansion.address}, Price: {mansion.price}, Rooms: {mansion.number_of_rooms}\")\n",
        "# Output: Address: 123 Luxury Lane, Price: 15000000, Rooms: 10"
      ]
    }
  ],
  "metadata": {
    "colab": {
      "provenance": []
    },
    "kernelspec": {
      "display_name": "Python 3",
      "name": "python3"
    },
    "language_info": {
      "codemirror_mode": {
        "name": "ipython",
        "version": 3
      },
      "file_extension": ".py",
      "mimetype": "text/x-python",
      "name": "python",
      "nbconvert_exporter": "python",
      "pygments_lexer": "ipython3",
      "version": "3.13.2"
    }
  },
  "nbformat": 4,
  "nbformat_minor": 0
}
