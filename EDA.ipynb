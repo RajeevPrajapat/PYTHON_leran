{
  "nbformat": 4,
  "nbformat_minor": 0,
  "metadata": {
    "colab": {
      "provenance": []
    },
    "kernelspec": {
      "name": "python3",
      "display_name": "Python 3"
    },
    "language_info": {
      "name": "python"
    }
  },
  "cells": [
    {
      "cell_type": "markdown",
      "source": [
        "# EDA - ***1***"
      ],
      "metadata": {
        "id": "DmGgLuFH54qF"
      }
    },
    {
      "cell_type": "code",
      "source": [
        "import pandas as pd\n",
        "df = pd.read_csv('your_file.csv')\n",
        "# data link : https://drive.google.com/file/d/1iKy23bMtEQShF_weneRNnYrFmzvpPOI3/view"
      ],
      "metadata": {
        "colab": {
          "base_uri": "https://localhost:8080/",
          "height": 304
        },
        "id": "Z5uG67x26jIJ",
        "outputId": "3e4b8cfd-8358-4280-a333-1cf6de78b581"
      },
      "execution_count": 1,
      "outputs": [
        {
          "output_type": "error",
          "ename": "FileNotFoundError",
          "evalue": "[Errno 2] No such file or directory: 'your_file.csv'",
          "traceback": [
            "\u001b[0;31m---------------------------------------------------------------------------\u001b[0m",
            "\u001b[0;31mFileNotFoundError\u001b[0m                         Traceback (most recent call last)",
            "\u001b[0;32m<ipython-input-1-9c32b0637e68>\u001b[0m in \u001b[0;36m<cell line: 0>\u001b[0;34m()\u001b[0m\n\u001b[1;32m      1\u001b[0m \u001b[0;32mimport\u001b[0m \u001b[0mpandas\u001b[0m \u001b[0;32mas\u001b[0m \u001b[0mpd\u001b[0m\u001b[0;34m\u001b[0m\u001b[0;34m\u001b[0m\u001b[0m\n\u001b[0;32m----> 2\u001b[0;31m \u001b[0mdf\u001b[0m \u001b[0;34m=\u001b[0m \u001b[0mpd\u001b[0m\u001b[0;34m.\u001b[0m\u001b[0mread_csv\u001b[0m\u001b[0;34m(\u001b[0m\u001b[0;34m'your_file.csv'\u001b[0m\u001b[0;34m)\u001b[0m\u001b[0;34m\u001b[0m\u001b[0;34m\u001b[0m\u001b[0m\n\u001b[0m",
            "\u001b[0;32m/usr/local/lib/python3.11/dist-packages/pandas/io/parsers/readers.py\u001b[0m in \u001b[0;36mread_csv\u001b[0;34m(filepath_or_buffer, sep, delimiter, header, names, index_col, usecols, dtype, engine, converters, true_values, false_values, skipinitialspace, skiprows, skipfooter, nrows, na_values, keep_default_na, na_filter, verbose, skip_blank_lines, parse_dates, infer_datetime_format, keep_date_col, date_parser, date_format, dayfirst, cache_dates, iterator, chunksize, compression, thousands, decimal, lineterminator, quotechar, quoting, doublequote, escapechar, comment, encoding, encoding_errors, dialect, on_bad_lines, delim_whitespace, low_memory, memory_map, float_precision, storage_options, dtype_backend)\u001b[0m\n\u001b[1;32m   1024\u001b[0m     \u001b[0mkwds\u001b[0m\u001b[0;34m.\u001b[0m\u001b[0mupdate\u001b[0m\u001b[0;34m(\u001b[0m\u001b[0mkwds_defaults\u001b[0m\u001b[0;34m)\u001b[0m\u001b[0;34m\u001b[0m\u001b[0;34m\u001b[0m\u001b[0m\n\u001b[1;32m   1025\u001b[0m \u001b[0;34m\u001b[0m\u001b[0m\n\u001b[0;32m-> 1026\u001b[0;31m     \u001b[0;32mreturn\u001b[0m \u001b[0m_read\u001b[0m\u001b[0;34m(\u001b[0m\u001b[0mfilepath_or_buffer\u001b[0m\u001b[0;34m,\u001b[0m \u001b[0mkwds\u001b[0m\u001b[0;34m)\u001b[0m\u001b[0;34m\u001b[0m\u001b[0;34m\u001b[0m\u001b[0m\n\u001b[0m\u001b[1;32m   1027\u001b[0m \u001b[0;34m\u001b[0m\u001b[0m\n\u001b[1;32m   1028\u001b[0m \u001b[0;34m\u001b[0m\u001b[0m\n",
            "\u001b[0;32m/usr/local/lib/python3.11/dist-packages/pandas/io/parsers/readers.py\u001b[0m in \u001b[0;36m_read\u001b[0;34m(filepath_or_buffer, kwds)\u001b[0m\n\u001b[1;32m    618\u001b[0m \u001b[0;34m\u001b[0m\u001b[0m\n\u001b[1;32m    619\u001b[0m     \u001b[0;31m# Create the parser.\u001b[0m\u001b[0;34m\u001b[0m\u001b[0;34m\u001b[0m\u001b[0m\n\u001b[0;32m--> 620\u001b[0;31m     \u001b[0mparser\u001b[0m \u001b[0;34m=\u001b[0m \u001b[0mTextFileReader\u001b[0m\u001b[0;34m(\u001b[0m\u001b[0mfilepath_or_buffer\u001b[0m\u001b[0;34m,\u001b[0m \u001b[0;34m**\u001b[0m\u001b[0mkwds\u001b[0m\u001b[0;34m)\u001b[0m\u001b[0;34m\u001b[0m\u001b[0;34m\u001b[0m\u001b[0m\n\u001b[0m\u001b[1;32m    621\u001b[0m \u001b[0;34m\u001b[0m\u001b[0m\n\u001b[1;32m    622\u001b[0m     \u001b[0;32mif\u001b[0m \u001b[0mchunksize\u001b[0m \u001b[0;32mor\u001b[0m \u001b[0miterator\u001b[0m\u001b[0;34m:\u001b[0m\u001b[0;34m\u001b[0m\u001b[0;34m\u001b[0m\u001b[0m\n",
            "\u001b[0;32m/usr/local/lib/python3.11/dist-packages/pandas/io/parsers/readers.py\u001b[0m in \u001b[0;36m__init__\u001b[0;34m(self, f, engine, **kwds)\u001b[0m\n\u001b[1;32m   1618\u001b[0m \u001b[0;34m\u001b[0m\u001b[0m\n\u001b[1;32m   1619\u001b[0m         \u001b[0mself\u001b[0m\u001b[0;34m.\u001b[0m\u001b[0mhandles\u001b[0m\u001b[0;34m:\u001b[0m \u001b[0mIOHandles\u001b[0m \u001b[0;34m|\u001b[0m \u001b[0;32mNone\u001b[0m \u001b[0;34m=\u001b[0m \u001b[0;32mNone\u001b[0m\u001b[0;34m\u001b[0m\u001b[0;34m\u001b[0m\u001b[0m\n\u001b[0;32m-> 1620\u001b[0;31m         \u001b[0mself\u001b[0m\u001b[0;34m.\u001b[0m\u001b[0m_engine\u001b[0m \u001b[0;34m=\u001b[0m \u001b[0mself\u001b[0m\u001b[0;34m.\u001b[0m\u001b[0m_make_engine\u001b[0m\u001b[0;34m(\u001b[0m\u001b[0mf\u001b[0m\u001b[0;34m,\u001b[0m \u001b[0mself\u001b[0m\u001b[0;34m.\u001b[0m\u001b[0mengine\u001b[0m\u001b[0;34m)\u001b[0m\u001b[0;34m\u001b[0m\u001b[0;34m\u001b[0m\u001b[0m\n\u001b[0m\u001b[1;32m   1621\u001b[0m \u001b[0;34m\u001b[0m\u001b[0m\n\u001b[1;32m   1622\u001b[0m     \u001b[0;32mdef\u001b[0m \u001b[0mclose\u001b[0m\u001b[0;34m(\u001b[0m\u001b[0mself\u001b[0m\u001b[0;34m)\u001b[0m \u001b[0;34m->\u001b[0m \u001b[0;32mNone\u001b[0m\u001b[0;34m:\u001b[0m\u001b[0;34m\u001b[0m\u001b[0;34m\u001b[0m\u001b[0m\n",
            "\u001b[0;32m/usr/local/lib/python3.11/dist-packages/pandas/io/parsers/readers.py\u001b[0m in \u001b[0;36m_make_engine\u001b[0;34m(self, f, engine)\u001b[0m\n\u001b[1;32m   1878\u001b[0m                 \u001b[0;32mif\u001b[0m \u001b[0;34m\"b\"\u001b[0m \u001b[0;32mnot\u001b[0m \u001b[0;32min\u001b[0m \u001b[0mmode\u001b[0m\u001b[0;34m:\u001b[0m\u001b[0;34m\u001b[0m\u001b[0;34m\u001b[0m\u001b[0m\n\u001b[1;32m   1879\u001b[0m                     \u001b[0mmode\u001b[0m \u001b[0;34m+=\u001b[0m \u001b[0;34m\"b\"\u001b[0m\u001b[0;34m\u001b[0m\u001b[0;34m\u001b[0m\u001b[0m\n\u001b[0;32m-> 1880\u001b[0;31m             self.handles = get_handle(\n\u001b[0m\u001b[1;32m   1881\u001b[0m                 \u001b[0mf\u001b[0m\u001b[0;34m,\u001b[0m\u001b[0;34m\u001b[0m\u001b[0;34m\u001b[0m\u001b[0m\n\u001b[1;32m   1882\u001b[0m                 \u001b[0mmode\u001b[0m\u001b[0;34m,\u001b[0m\u001b[0;34m\u001b[0m\u001b[0;34m\u001b[0m\u001b[0m\n",
            "\u001b[0;32m/usr/local/lib/python3.11/dist-packages/pandas/io/common.py\u001b[0m in \u001b[0;36mget_handle\u001b[0;34m(path_or_buf, mode, encoding, compression, memory_map, is_text, errors, storage_options)\u001b[0m\n\u001b[1;32m    871\u001b[0m         \u001b[0;32mif\u001b[0m \u001b[0mioargs\u001b[0m\u001b[0;34m.\u001b[0m\u001b[0mencoding\u001b[0m \u001b[0;32mand\u001b[0m \u001b[0;34m\"b\"\u001b[0m \u001b[0;32mnot\u001b[0m \u001b[0;32min\u001b[0m \u001b[0mioargs\u001b[0m\u001b[0;34m.\u001b[0m\u001b[0mmode\u001b[0m\u001b[0;34m:\u001b[0m\u001b[0;34m\u001b[0m\u001b[0;34m\u001b[0m\u001b[0m\n\u001b[1;32m    872\u001b[0m             \u001b[0;31m# Encoding\u001b[0m\u001b[0;34m\u001b[0m\u001b[0;34m\u001b[0m\u001b[0m\n\u001b[0;32m--> 873\u001b[0;31m             handle = open(\n\u001b[0m\u001b[1;32m    874\u001b[0m                 \u001b[0mhandle\u001b[0m\u001b[0;34m,\u001b[0m\u001b[0;34m\u001b[0m\u001b[0;34m\u001b[0m\u001b[0m\n\u001b[1;32m    875\u001b[0m                 \u001b[0mioargs\u001b[0m\u001b[0;34m.\u001b[0m\u001b[0mmode\u001b[0m\u001b[0;34m,\u001b[0m\u001b[0;34m\u001b[0m\u001b[0;34m\u001b[0m\u001b[0m\n",
            "\u001b[0;31mFileNotFoundError\u001b[0m: [Errno 2] No such file or directory: 'your_file.csv'"
          ]
        }
      ]
    },
    {
      "cell_type": "code",
      "source": [
        "# 1. What is the range of selling prices in the dataset?\n",
        "\n",
        "price_range = df['selling_price'].max() - df['selling_price'].min()\n",
        "print(\"Range of selling prices:\", price_range)\n"
      ],
      "metadata": {
        "id": "XPnhw1nd4lg1"
      },
      "execution_count": null,
      "outputs": []
    },
    {
      "cell_type": "code",
      "source": [
        "#2. What is the median selling price for bikes in the dataset?\n",
        "\n",
        "median_price = df['selling_price'].median()\n",
        "print(\"Median selling price:\", median_price)"
      ],
      "metadata": {
        "id": "cQHAzq6w4lF4"
      },
      "execution_count": null,
      "outputs": []
    },
    {
      "cell_type": "code",
      "source": [
        "#3. What is the most common seller type?\n",
        "common_seller = df['seller_type'].mode()[0]\n",
        "print(\"Most common seller type:\", common_seller)"
      ],
      "metadata": {
        "id": "KYIXcb9y4k_u"
      },
      "execution_count": null,
      "outputs": []
    },
    {
      "cell_type": "code",
      "source": [
        "#4. How many bikes have driven more than 50,000 kilometers?\n",
        "high_km_bikes = df[df['km_driven'] > 50000].shape[0]\n",
        "print(\"Bikes driven more than 50,000 km:\", high_km_bikes)"
      ],
      "metadata": {
        "id": "dKq7McTW42NC"
      },
      "execution_count": null,
      "outputs": []
    },
    {
      "cell_type": "code",
      "source": [
        "#5. What is the average km_driven value for each ownership type?\n",
        "\n",
        "avg_km_by_owner = df.groupby('owner')['km_driven'].mean()\n",
        "print(\"Average km driven by ownership type:\\n\", avg_km_by_owner)"
      ],
      "metadata": {
        "id": "-Gg5HQz142J6"
      },
      "execution_count": null,
      "outputs": []
    },
    {
      "cell_type": "code",
      "source": [
        "#6. What proportion of bikes are from the year 2015 or older?\n",
        "\n",
        "proportion_old = (df['year'] <= 2015).sum() / len(df)\n",
        "print(\"Proportion of bikes from 2015 or older:\", proportion_old)"
      ],
      "metadata": {
        "id": "EB9qDEnX42Gj"
      },
      "execution_count": null,
      "outputs": []
    },
    {
      "cell_type": "code",
      "source": [
        "#7. What is the trend of missing values across the dataset?\n",
        "\n",
        "missing_values = df.isnull().sum()\n",
        "print(\"Missing values in each column:\\n\", missing_values)"
      ],
      "metadata": {
        "id": "p9QlkVCz5GaD"
      },
      "execution_count": null,
      "outputs": []
    },
    {
      "cell_type": "code",
      "source": [
        "#8. What is the highest ex_showroom_price recorded, and for which bike?\n",
        "\n",
        "idx_max_price = df['ex_showroom_price'].idxmax()\n",
        "highest_price_bike = df.loc[idx_max_price, ['name', 'ex_showroom_price']]\n",
        "print(\"Highest ex-showroom price and bike:\\n\", highest_price_bike)"
      ],
      "metadata": {
        "id": "5Vl0wrRk5GRH"
      },
      "execution_count": null,
      "outputs": []
    },
    {
      "cell_type": "code",
      "source": [
        "#9. What is the total number of bikes listed by each seller type?\n",
        "\n",
        "bikes_by_seller = df['seller_type'].value_counts()\n",
        "print(\"Total bikes by seller type:\\n\", bikes_by_seller)"
      ],
      "metadata": {
        "id": "-T39rLE75GKy"
      },
      "execution_count": null,
      "outputs": []
    },
    {
      "cell_type": "code",
      "source": [
        "#10. What is the relationship between selling_price and km_driven for first-owner bikes?\n",
        "\n",
        "import seaborn as sns\n",
        "import matplotlib.pyplot as plt\n",
        "\n",
        "first_owner = df[df['owner'] == '1st owner']\n",
        "sns.scatterplot(data=first_owner, x='km_driven', y='selling_price')\n",
        "plt.title('Selling Price vs KM Driven (First Owner)')\n",
        "plt.show()"
      ],
      "metadata": {
        "id": "r8B-CAGl5GHV"
      },
      "execution_count": null,
      "outputs": []
    },
    {
      "cell_type": "code",
      "source": [
        "#11. Identify and remove outliers in the km_driven column using the IQR method.\n",
        "python\n",
        "Copy\n",
        "Edit\n",
        "Q1 = df['km_driven'].quantile(0.25)\n",
        "Q3 = df['km_driven'].quantile(0.75)\n",
        "IQR = Q3 - Q1\n",
        "filtered_df = df[(df['km_driven'] >= Q1 - 1.5 * IQR) & (df['km_driven'] <= Q3 + 1.5 * IQR)]\n",
        "print(\"Shape after removing outliers:\", filtered_df.shape)"
      ],
      "metadata": {
        "id": "HaTJRVbw5RaT"
      },
      "execution_count": null,
      "outputs": []
    },
    {
      "cell_type": "code",
      "source": [
        "#12. Perform a bivariate analysis to visualize the relationship between year and selling_price.\n",
        "\n",
        "sns.boxplot(x='year', y='selling_price', data=df)\n",
        "plt.xticks(rotation=45)\n",
        "plt.title('Year vs Selling Price')\n",
        "plt.show()"
      ],
      "metadata": {
        "id": "V-kuFyW15RXi"
      },
      "execution_count": null,
      "outputs": []
    },
    {
      "cell_type": "code",
      "source": [
        "#13. What is the average depreciation in selling price based on the bike's age (current year - manufacturing year)?\n",
        "\n",
        "import datetime\n",
        "current_year = datetime.datetime.now().year\n",
        "df['age'] = current_year - df['year']\n",
        "df['depreciation'] = df['ex_showroom_price'] - df['selling_price']\n",
        "avg_depreciation_by_age = df.groupby('age')['depreciation'].mean()\n",
        "print(\"Average depreciation by bike age:\\n\", avg_depreciation_by_age)"
      ],
      "metadata": {
        "id": "bInNtVr45RUo"
      },
      "execution_count": null,
      "outputs": []
    },
    {
      "cell_type": "code",
      "source": [
        "#14. Which bike names are priced significantly above the average price for their manufacturing year?\n",
        "\n",
        "yearly_avg = df.groupby('year')['selling_price'].mean()\n",
        "df['year_avg'] = df['year'].map(yearly_avg)\n",
        "above_avg_bikes = df[df['selling_price'] > df['year_avg'] + df['year_avg'].std()]\n",
        "print(\"Bikes priced significantly above yearly average:\\n\", above_avg_bikes[['name', 'year', 'selling_price']])"
      ],
      "metadata": {
        "id": "ebjQRuxJ5RRz"
      },
      "execution_count": null,
      "outputs": []
    },
    {
      "cell_type": "code",
      "execution_count": null,
      "metadata": {
        "id": "xQ6-UMoX4Hs5"
      },
      "outputs": [],
      "source": [
        "#15. Develop a correlation matrix for numeric columns and visualize it using a heatmap.\n",
        "\n",
        "corr_matrix = df.select_dtypes(include=['float64', 'int64']).corr()\n",
        "sns.heatmap(corr_matrix, annot=True, cmap='coolwarm')\n",
        "plt.title('Correlation Heatmap')\n",
        "plt.show()"
      ]
    },
    {
      "cell_type": "markdown",
      "source": [
        "# ***EDA : 2***"
      ],
      "metadata": {
        "id": "8ToJzy7N6B9n"
      }
    },
    {
      "cell_type": "code",
      "source": [
        "import pandas as pd\n",
        "import matplotlib.pyplot as plt\n",
        "import seaborn as sns\n",
        "# data link : https://drive.google.com/file/d/1N0kM_zi-iU3yvr6BEJf21aiF599PtA0U/view"
      ],
      "metadata": {
        "id": "tPQ6gmqR4jxK"
      },
      "execution_count": 2,
      "outputs": []
    },
    {
      "cell_type": "code",
      "source": [
        "# 1. What is the average selling price of cars for each dealer, and how does it compare across different dealers?\n",
        "avg_price_by_dealer = df.groupby('Dealer_Name')['Price ($)'].mean().sort_values(ascending=False)\n",
        "print(avg_price_by_dealer)\n",
        "\n",
        "# Visualize\n",
        "avg_price_by_dealer.plot(kind='bar', figsize=(12, 5), title='Average Price per Dealer')\n",
        "plt.ylabel('Average Price ($)')\n",
        "plt.show()"
      ],
      "metadata": {
        "id": "1MvMmLiD4j4E"
      },
      "execution_count": null,
      "outputs": []
    },
    {
      "cell_type": "code",
      "source": [
        "# 2. Which car brand (Company) has the highest variation in prices, and what does this tell us about the pricing trends?\n",
        "price_variation = df.groupby('Company')['Price ($)'].std().sort_values(ascending=False)\n",
        "print(price_variation)\n",
        "\n",
        "# The brand with the highest std dev likely has a wide range of car models (economy to luxury)"
      ],
      "metadata": {
        "id": "EX3MbyLc7PAi"
      },
      "execution_count": null,
      "outputs": []
    },
    {
      "cell_type": "code",
      "source": [
        "# 3. What is the distribution of car prices for each transmission type, and how do the interquartile ranges compare?\n",
        "sns.boxplot(data=df, x='Transmission', y='Price ($)')\n",
        "plt.title('Price Distribution by Transmission Type')\n",
        "plt.show()\n"
      ],
      "metadata": {
        "id": "Nc-P7kQY7O8T"
      },
      "execution_count": null,
      "outputs": []
    },
    {
      "cell_type": "code",
      "source": [
        "# 4. What is the distribution of car prices across different regions?\n",
        "sns.boxplot(data=df, x='Dealer_Region', y='Price ($)')\n",
        "plt.title('Price Distribution by Region')\n",
        "plt.show()"
      ],
      "metadata": {
        "id": "zPgB88YW7O5T"
      },
      "execution_count": null,
      "outputs": []
    },
    {
      "cell_type": "code",
      "source": [
        "# 5. What is the distribution of cars based on body styles?\n",
        "df['Body Style'].value_counts().plot(kind='bar', title='Distribution of Body Styles')\n",
        "plt.ylabel('Count')\n",
        "plt.show()"
      ],
      "metadata": {
        "id": "1Gt83lFz7O1p"
      },
      "execution_count": null,
      "outputs": []
    },
    {
      "cell_type": "code",
      "source": [
        "# 6. How does the average selling price of cars vary by customer gender and annual income?\n",
        "avg_price_gender_income = df.groupby('Gender')[['Annual Income', 'Price ($)']].mean()\n",
        "print(avg_price_gender_income)"
      ],
      "metadata": {
        "id": "XnGG76fW7cvY"
      },
      "execution_count": null,
      "outputs": []
    },
    {
      "cell_type": "code",
      "source": [
        "# 7. What is the distribution of car prices by region, and how does the number of cars sold vary by region?\n",
        "fig, ax = plt.subplots(1, 2, figsize=(14, 5))\n",
        "\n",
        "sns.boxplot(data=df, x='Dealer_Region', y='Price ($)', ax=ax[0])\n",
        "ax[0].set_title('Price Distribution by Region')\n",
        "\n",
        "df['Dealer_Region'].value_counts().plot(kind='bar', ax=ax[1], title='Number of Cars Sold by Region')\n",
        "ax[1].set_ylabel('Count')\n",
        "\n",
        "plt.tight_layout()\n",
        "plt.show()"
      ],
      "metadata": {
        "id": "nEHcAcGr7cpG"
      },
      "execution_count": null,
      "outputs": []
    },
    {
      "cell_type": "code",
      "source": [
        "# 8. How does the average car price differ between cars with different engine sizes?\n",
        "avg_price_by_engine = df.groupby('Engine')['Price ($)'].mean().sort_values(ascending=False)\n",
        "print(avg_price_by_engine)"
      ],
      "metadata": {
        "id": "otiYce7J7cl0"
      },
      "execution_count": null,
      "outputs": []
    },
    {
      "cell_type": "code",
      "source": [
        "# 9. How do car prices vary based on the customer’s annual income bracket?\n",
        "df['Income_Bracket'] = pd.cut(df['Annual Income'], bins=[0, 30000, 60000, 90000, 120000, 200000],\n",
        "                              labels=['<30K', '30K-60K', '60K-90K', '90K-120K', '120K+'])\n",
        "\n",
        "sns.boxplot(data=df, x='Income_Bracket', y='Price ($)')\n",
        "plt.title('Price by Income Bracket')\n",
        "plt.show()"
      ],
      "metadata": {
        "id": "mo39Df3H7n05"
      },
      "execution_count": null,
      "outputs": []
    },
    {
      "cell_type": "code",
      "source": [
        "# 10. What are the top 5 car models with the highest number of sales, and how does their price distribution look?\n",
        "top_models = df['Model'].value_counts().head(5).index\n",
        "top_model_data = df[df['Model'].isin(top_models)]\n",
        "\n",
        "sns.boxplot(data=top_model_data, x='Model', y='Price ($)')\n",
        "plt.title('Price Distribution of Top 5 Models')\n",
        "plt.show()"
      ],
      "metadata": {
        "id": "916KjF-Z7nyA"
      },
      "execution_count": null,
      "outputs": []
    },
    {
      "cell_type": "code",
      "source": [
        "# 11. How does car price vary with engine size across different car colors, and which colors have the highest price variation?\n",
        "sns.boxplot(data=df, x='Color', y='Price ($)', hue='Engine')\n",
        "plt.xticks(rotation=45)\n",
        "plt.title('Price vs Engine Size by Color')\n",
        "plt.show()\n",
        "\n",
        "# To see highest price variation by color:\n",
        "variation_by_color = df.groupby('Color')['Price ($)'].std().sort_values(ascending=False)\n",
        "print(\"Color with highest price variation:\\n\", variation_by_color)"
      ],
      "metadata": {
        "id": "f8wlP9Ec7nu-"
      },
      "execution_count": null,
      "outputs": []
    },
    {
      "cell_type": "code",
      "source": [
        "# 12. Is there any seasonal trend in car sales based on the date of sale?\n",
        "df['Date'] = pd.to_datetime(df['Date'])\n",
        "df['Month'] = df['Date'].dt.month\n",
        "monthly_sales = df['Month'].value_counts().sort_index()\n",
        "\n",
        "monthly_sales.plot(kind='bar', title='Car Sales per Month')\n",
        "plt.xlabel('Month')\n",
        "plt.ylabel('Number of Sales')\n",
        "plt.show()"
      ],
      "metadata": {
        "id": "dbp289aT7nsH"
      },
      "execution_count": null,
      "outputs": []
    },
    {
      "cell_type": "code",
      "source": [
        "# 13. How does the car price distribution change when considering different combinations of body style and transmission type?\n",
        "sns.boxplot(data=df, x='Body Style', y='Price ($)', hue='Transmission')\n",
        "plt.xticks(rotation=45)\n",
        "plt.title('Price by Body Style and Transmission')\n",
        "plt.show()"
      ],
      "metadata": {
        "id": "fVVrrFfe7noc"
      },
      "execution_count": null,
      "outputs": []
    },
    {
      "cell_type": "code",
      "source": [
        "# 14. What is the correlation between car price, engine size, and annual income of customers, and how do these features interact?\n",
        "# First encode Engine if it's categorical like 'V6', 'I4'\n",
        "df['Engine_Code'] = df['Engine'].astype('category').cat.codes\n",
        "\n",
        "corr_data = df[['Price ($)', 'Engine_Code', 'Annual Income']].corr()\n",
        "sns.heatmap(corr_data, annot=True, cmap='coolwarm')\n",
        "plt.title('Correlation Matrix')\n",
        "plt.show()"
      ],
      "metadata": {
        "id": "sbfnLUW075y1"
      },
      "execution_count": null,
      "outputs": []
    },
    {
      "cell_type": "code",
      "source": [
        "# 15. How does the average car price vary across different car models and engine types?\n",
        "avg_price_model_engine = df.groupby(['Model', 'Engine'])['Price ($)'].mean().unstack().fillna(0)\n",
        "print(avg_price_model_engine)"
      ],
      "metadata": {
        "id": "MrZaehnh75uy"
      },
      "execution_count": null,
      "outputs": []
    },
    {
      "cell_type": "markdown",
      "source": [
        "## EDA : **3**"
      ],
      "metadata": {
        "id": "PrN9eQ1k7-Wk"
      }
    },
    {
      "cell_type": "code",
      "source": [
        "# 1. What is the average rating for each product category?\n",
        "avg_rating_by_category = df.groupby('category')['rating'].mean().sort_values(ascending=False)\n",
        "print(\"Average rating per category:\\n\", avg_rating_by_category)"
      ],
      "metadata": {
        "id": "OjSj1fFI75nt"
      },
      "execution_count": null,
      "outputs": []
    },
    {
      "cell_type": "code",
      "source": [
        "# 2. What are the top rating_count products by category?\n",
        "top_rated_products = df.sort_values(by='rating_count', ascending=False).groupby('category').head(1)\n",
        "print(\"Top rating_count product by each category:\\n\", top_rated_products[['category', 'product_name', 'rating_count']])"
      ],
      "metadata": {
        "id": "2_zq7vTA75ke"
      },
      "execution_count": null,
      "outputs": []
    },
    {
      "cell_type": "code",
      "source": [
        "# 3. What is the distribution of discounted prices vs. actual prices?\n",
        "import seaborn as sns\n",
        "import matplotlib.pyplot as plt\n",
        "\n",
        "plt.figure(figsize=(10, 5))\n",
        "sns.kdeplot(df['actual_price'], label='Actual Price', fill=True)\n",
        "sns.kdeplot(df['discounted_price'], label='Discounted Price', fill=True)\n",
        "plt.title('Distribution of Discounted vs Actual Prices')\n",
        "plt.legend()\n",
        "plt.show()"
      ],
      "metadata": {
        "id": "v67Ld4FV8scq"
      },
      "execution_count": null,
      "outputs": []
    },
    {
      "cell_type": "code",
      "source": [
        "# 4. How does the average discount percentage vary across categories?\n",
        "avg_discount_by_category = df.groupby('category')['discount_percentage'].mean().sort_values(ascending=False)\n",
        "print(\"Average discount % by category:\\n\", avg_discount_by_category)"
      ],
      "metadata": {
        "id": "ngUZ4iI58sZS"
      },
      "execution_count": null,
      "outputs": []
    },
    {
      "cell_type": "code",
      "source": [
        "# 5. What are the most popular product names?\n",
        "most_popular_products = df['product_name'].value_counts().head(10)\n",
        "print(\"Most popular product names:\\n\", most_popular_products)\n"
      ],
      "metadata": {
        "id": "E3akWEym8sVl"
      },
      "execution_count": null,
      "outputs": []
    },
    {
      "cell_type": "code",
      "source": [
        "# 6. What are the most popular product keywords?\n",
        "from collections import Counter\n",
        "\n",
        "keywords_series = df['product_name'].dropna().str.split().explode()\n",
        "top_keywords = Counter(keywords_series).most_common(10)\n",
        "print(\"Most common product keywords:\\n\", top_keywords)"
      ],
      "metadata": {
        "id": "TyhGhTKs8sQ_"
      },
      "execution_count": null,
      "outputs": []
    },
    {
      "cell_type": "code",
      "source": [
        "# 7. What are the most popular product reviews?\n",
        "most_popular_reviews = df['review_content'].value_counts().head(10)\n",
        "print(\"Most popular reviews:\\n\", most_popular_reviews)"
      ],
      "metadata": {
        "id": "fPaP4TGz81mv"
      },
      "execution_count": null,
      "outputs": []
    },
    {
      "cell_type": "code",
      "source": [
        "# 8. What is the correlation between discounted_price and rating?\n",
        "correlation = df[['discounted_price', 'rating']].corr()\n",
        "print(\"Correlation between discounted price and rating:\\n\", correlation)"
      ],
      "metadata": {
        "id": "9F6wQNmz81ji"
      },
      "execution_count": null,
      "outputs": []
    },
    {
      "cell_type": "code",
      "source": [
        "# 9. What are the Top 5 categories based on the highest ratings?\n",
        "top5_categories_by_rating = df.groupby('category')['rating'].mean().sort_values(ascending=False).head(5)\n",
        "print(\"Top 5 categories by average rating:\\n\", top5_categories_by_rating)"
      ],
      "metadata": {
        "id": "b5pZhfbQ81gq"
      },
      "execution_count": null,
      "outputs": []
    },
    {
      "cell_type": "code",
      "source": [
        "# 10. Identify any potential areas for improvement or optimization based on the data analysis\n",
        "# Example insights:\n",
        "# - Categories with low average ratings might need quality control or better descriptions.\n",
        "# - Products with high discounts but low ratings could suggest poor value.\n",
        "# - Categories with high views but low rating_count may benefit from promotional strategies.\n",
        "\n",
        "low_rating_cats = df.groupby('category')['rating'].mean().sort_values().head(3)\n",
        "high_discount_low_rating = df[(df['discount_percentage'] > 30) & (df['rating'] < 3)]\n",
        "print(\"Categories needing improvement (low average rating):\\n\", low_rating_cats)\n",
        "print(\"Products with high discounts but low ratings (potential quality issue):\\n\", high_discount_low_rating[['product_name', 'discount_percentage', 'rating']].head())\n"
      ],
      "metadata": {
        "id": "aPNGNFH281dc"
      },
      "execution_count": null,
      "outputs": []
    },
    {
      "cell_type": "markdown",
      "source": [
        "# ***EDA : 4***"
      ],
      "metadata": {
        "id": "NZuTwRK-9Gwd"
      }
    },
    {
      "cell_type": "code",
      "source": [
        "# data link : https://drive.google.com/file/d/1JVgy2yXUOREkzRdCeWjep626uvvF94pP/view"
      ],
      "metadata": {
        "id": "y7ZBFbpj-AEt"
      },
      "execution_count": null,
      "outputs": []
    },
    {
      "cell_type": "code",
      "source": [
        "# 1. Read the dataframe, check null values if present then do the needful, check duplicate rows, if present then do the needful\n",
        "df = pd.read_csv('spotify_tracks.csv')  # Update with your actual file path\n",
        "\n",
        "# Check and handle null values\n",
        "print(\"Null values:\\n\", df.isnull().sum())\n",
        "df = df.dropna()  # Optionally: df.fillna(value, inplace=True) if specific handling needed\n",
        "\n",
        "# Check and handle duplicates\n",
        "print(\"Duplicates:\", df.duplicated().sum())\n",
        "df = df.drop_duplicates()"
      ],
      "metadata": {
        "id": "LRvxq_4c9ONt"
      },
      "execution_count": null,
      "outputs": []
    },
    {
      "cell_type": "code",
      "source": [
        "# 2. What is the distribution of popularity among the tracks in the dataset? Visualize it using a histogram\n",
        "plt.figure(figsize=(8, 5))\n",
        "sns.histplot(df['Popularity'], bins=20, kde=True)\n",
        "plt.title('Distribution of Track Popularity')\n",
        "plt.xlabel('Popularity')\n",
        "plt.ylabel('Count')\n",
        "plt.show()"
      ],
      "metadata": {
        "id": "TzORW1b89geS"
      },
      "execution_count": null,
      "outputs": []
    },
    {
      "cell_type": "code",
      "source": [
        "# 3. Is there any relationship between the popularity and the duration of tracks? Explore this using a scatter plot\n",
        "plt.figure(figsize=(8, 5))\n",
        "sns.scatterplot(data=df, x='Duration (ms)', y='Popularity')\n",
        "plt.title('Popularity vs Duration of Tracks')\n",
        "plt.xlabel('Duration (ms)')\n",
        "plt.ylabel('Popularity')\n",
        "plt.show()"
      ],
      "metadata": {
        "id": "-UOF9Sbo9gaz"
      },
      "execution_count": null,
      "outputs": []
    },
    {
      "cell_type": "code",
      "source": [
        "# 4. Which artist has the highest number of tracks in the dataset? Display the count of tracks for each artist using a countplot\n",
        "plt.figure(figsize=(12, 5))\n",
        "top_artists = df['Artist'].value_counts().head(10)\n",
        "sns.countplot(y='Artist', data=df[df['Artist'].isin(top_artists.index)], order=top_artists.index)\n",
        "plt.title('Top 10 Artists by Track Count')\n",
        "plt.xlabel('Track Count')\n",
        "plt.ylabel('Artist')\n",
        "plt.show()"
      ],
      "metadata": {
        "id": "EiKcXTly9gX0"
      },
      "execution_count": null,
      "outputs": []
    },
    {
      "cell_type": "code",
      "source": [
        "# 5. What are the top 5 least popular tracks in the dataset? Provide the artist name and track name for each\n",
        "least_popular = df.sort_values('Popularity').head(5)\n",
        "print(\"Top 5 least popular tracks:\\n\", least_popular[['Artist', 'Track Name', 'Popularity']])"
      ],
      "metadata": {
        "id": "3E8v2xK69gVL"
      },
      "execution_count": null,
      "outputs": []
    },
    {
      "cell_type": "code",
      "source": [
        "# 6. Among the top 5 most popular artists, which artist has the highest popularity on average?\n",
        "top_artists = df['Artist'].value_counts().head(5).index\n",
        "avg_popularity = df[df['Artist'].isin(top_artists)].groupby('Artist')['Popularity'].mean().sort_values(ascending=False)\n",
        "print(\"Top 5 popular artists by average popularity:\\n\", avg_popularity)"
      ],
      "metadata": {
        "id": "I3b7wgX-9gOO"
      },
      "execution_count": null,
      "outputs": []
    },
    {
      "cell_type": "code",
      "source": [
        "# 7. For the top 5 most popular artists, what are their most popular tracks? List the track name for each artist\n",
        "most_popular_tracks = df[df['Artist'].isin(top_artists)].sort_values(['Artist', 'Popularity'], ascending=[True, False])\n",
        "top_tracks_per_artist = most_popular_tracks.groupby('Artist').head(1)\n",
        "print(\"Most popular track of top 5 artists:\\n\", top_tracks_per_artist[['Artist', 'Track Name', 'Popularity']])"
      ],
      "metadata": {
        "id": "_wKjx05i9t4T"
      },
      "execution_count": null,
      "outputs": []
    },
    {
      "cell_type": "code",
      "source": [
        "# 8. Visualize relationships between multiple numerical variables simultaneously using a pair plot\n",
        "sns.pairplot(df[['Popularity', 'Duration (ms)']])\n",
        "plt.suptitle('Pair Plot of Numerical Features', y=1.02)\n",
        "plt.show()"
      ],
      "metadata": {
        "id": "dmU_s27C9t1J"
      },
      "execution_count": null,
      "outputs": []
    },
    {
      "cell_type": "code",
      "source": [
        "# 9. Does the duration of tracks vary significantly across different artists? Explore this visually using a box plot or violin plot\n",
        "top_artists_duration = df[df['Artist'].isin(df['Artist'].value_counts().head(5).index)]\n",
        "plt.figure(figsize=(10, 5))\n",
        "sns.violinplot(x='Artist', y='Duration (ms)', data=top_artists_duration)\n",
        "plt.title('Track Duration by Artist')\n",
        "plt.xticks(rotation=45)\n",
        "plt.show()\n",
        "\n"
      ],
      "metadata": {
        "id": "2vO7beQQ9txf"
      },
      "execution_count": null,
      "outputs": []
    },
    {
      "cell_type": "code",
      "source": [
        "# 10. How does the distribution of track popularity vary for different artists? Visualize this using a swarm plot or a violin plot\n",
        "plt.figure(figsize=(10, 5))\n",
        "sns.swarmplot(x='Artist', y='Popularity', data=top_artists_duration)\n",
        "plt.title('Popularity Distribution by Artist')\n",
        "plt.xticks(rotation=45)\n",
        "plt.show()"
      ],
      "metadata": {
        "id": "uAnO394093eB"
      },
      "execution_count": null,
      "outputs": []
    }
  ]
}