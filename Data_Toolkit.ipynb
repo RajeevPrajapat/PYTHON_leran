{
  "nbformat": 4,
  "nbformat_minor": 0,
  "metadata": {
    "colab": {
      "provenance": []
    },
    "kernelspec": {
      "name": "python3",
      "display_name": "Python 3"
    },
    "language_info": {
      "name": "python"
    }
  },
  "cells": [
    {
      "cell_type": "code",
      "execution_count": null,
      "metadata": {
        "id": "lG-XxucbLAdl"
      },
      "outputs": [],
      "source": []
    },
    {
      "cell_type": "markdown",
      "source": [
        "# 1. What is NumPy, and why is it widely used in Python?\n",
        "- NumPy is a numerical computing library used for fast array operations and mathematical computations.\n",
        "\n",
        "# 2. How does broadcasting work in NumPy?\n",
        "- Broadcasting automatically expands arrays with smaller shapes during arithmetic operations to make them compatible.\n",
        "\n",
        "# 3. What is a Pandas DataFrame?\n",
        "- A DataFrame is a 2D labeled data structure that holds data in rows and columns, similar to an Excel sheet.\n",
        "\n",
        "# 4. Explain the use of the groupby() method in Pandas.\n",
        "- groupby() is used to split data into groups based on a column and apply aggregate functions like mean or sum.\n",
        "\n",
        "# 5. Why is Seaborn preferred for statistical visualizations?\n",
        "- Seaborn offers high-level functions for statistical plots with appealing default styles and integration with Pandas.\n",
        "\n",
        "# 6. What are the differences between NumPy arrays and Python lists?\n",
        "- NumPy arrays are more efficient, support element-wise operations, and consume less memory than Python lists.\n",
        "\n",
        "# 7. What is a heatmap, and when should it be used?\n",
        "- A heatmap uses color to represent data values and is useful for visualizing correlations or matrix-like data.\n",
        "\n",
        "# 8. What does the term “vectorized operation” mean in NumPy?\n",
        "- Vectorized operation means performing operations on entire arrays without writing loops, making code faster.\n",
        "\n",
        "# 9. How does Matplotlib differ from Plotly?\n",
        "- Matplotlib produces static plots, while Plotly generates interactive, web-based visualizations.\n",
        "\n",
        "# 10. What is the significance of hierarchical indexing in Pandas?\n",
        "- Hierarchical indexing allows multi-level row or column labels, enabling more complex data organization.\n",
        "\n",
        "# 11. What is the role of Seaborn’s pairplot() function?\n",
        "- pairplot() shows pairwise relationships in a dataset through scatterplots and histograms for easy pattern detection.\n",
        "\n",
        "# 12. What is the purpose of the describe() function in Pandas?\n",
        "- describe() gives summary statistics like count, mean, std, min, and max for numerical columns.\n",
        "\n",
        "# 13. Why is handling missing data important in Pandas?\n",
        "- Handling missing data avoids errors and ensures the accuracy and quality of the analysis.\n",
        "\n",
        "# 14. What are the benefits of using Plotly for data visualization?\n",
        "- Plotly supports interactive charts with features like tooltips, zooming, and export options.\n",
        "\n",
        "# 15. How does NumPy handle multidimensional arrays?\n",
        "- NumPy uses ndarray objects that can have any number of dimensions and support operations like slicing and reshaping.\n",
        "\n",
        "# 16. What is the role of Bokeh in data visualization?\n",
        "- Bokeh is used for building interactive visualizations for modern web browsers, useful in dashboards.\n",
        "\n",
        "# 17. Explain the difference between apply() and map() in Pandas.\n",
        "- apply() works on rows/columns in a DataFrame, while map() applies a function element-wise on a Series.\n",
        "\n",
        "# 18. What are some advanced features of NumPy?\n",
        "- Advanced features include linear algebra, broadcasting, masking, random number generation, and Fourier transforms.\n",
        "\n",
        "# 19. How does Pandas simplify time series analysis?\n",
        "- Pandas offers time-based indexing, resampling, shifting, and rolling functions for analyzing time series data.\n",
        "\n",
        "# 20. What is the role of a pivot table in Pandas?\n",
        "- A pivot table reshapes data and provides summarized views using aggregation functions like sum or mean.\n",
        "\n",
        "# 21. Why is NumPy’s array slicing faster than Python’s list slicing?\n",
        "- NumPy arrays are stored in contiguous memory blocks and are optimized for speed at the C-level.\n",
        "\n",
        "# 22. What are some common use cases for Seaborn?\n",
        "- Seaborn is used for visualizing distributions, categorical data, regression lines, and correlation heatmaps."
      ],
      "metadata": {
        "id": "YlOFCuEJLbr1"
      }
    },
    {
      "cell_type": "code",
      "source": [
        "# 1. How do you create a 2D NumPy array and calculate the sum of each row?\n",
        "- import numpy as np\n",
        "  arr = np.array([[1, 2, 3], [4, 5, 6]])\n",
        "  row_sum = np.sum(arr, axis=1)"
      ],
      "metadata": {
        "colab": {
          "base_uri": "https://localhost:8080/",
          "height": 106
        },
        "id": "T1WMvcgRMoZn",
        "outputId": "d0f7e769-e175-41bd-9be0-19012c9973cf"
      },
      "execution_count": 1,
      "outputs": [
        {
          "output_type": "error",
          "ename": "SyntaxError",
          "evalue": "invalid syntax (<ipython-input-1-49baf883fa8e>, line 2)",
          "traceback": [
            "\u001b[0;36m  File \u001b[0;32m\"<ipython-input-1-49baf883fa8e>\"\u001b[0;36m, line \u001b[0;32m2\u001b[0m\n\u001b[0;31m    - import numpy as np\u001b[0m\n\u001b[0m      ^\u001b[0m\n\u001b[0;31mSyntaxError\u001b[0m\u001b[0;31m:\u001b[0m invalid syntax\n"
          ]
        }
      ]
    },
    {
      "cell_type": "code",
      "source": [
        "# 2. Write a Pandas script to find the mean of a specific column in a DataFrame\n",
        "- import pandas as pd\n",
        "  df = pd.DataFrame({'A': [10, 20, 30], 'B': [5, 15, 25]})\n",
        "  mean_b = df['B'].mean()"
      ],
      "metadata": {
        "id": "7FGsxfoNMoUc"
      },
      "execution_count": null,
      "outputs": []
    },
    {
      "cell_type": "code",
      "source": [
        "# 3. Create a scatter plot using Matplotlib\n",
        "  import matplotlib.pyplot as plt\n",
        "  x = [1, 2, 3, 4]\n",
        "  y = [10, 20, 25, 30]\n",
        "  plt.scatter(x, y)\n",
        "  plt.xlabel('X Axis')\n",
        "  plt.ylabel('Y Axis')\n",
        "  plt.title('Scatter Plot')\n",
        "  plt.show()"
      ],
      "metadata": {
        "id": "B8Q_vZzSMwpN"
      },
      "execution_count": null,
      "outputs": []
    },
    {
      "cell_type": "code",
      "source": [
        "# 4. How do you calculate the correlation matrix using Seaborn and visualize it with a heatmap?\n",
        "  import seaborn as sns\n",
        "  import pandas as pd\n",
        "  df = pd.DataFrame({'A': [1, 2, 3], 'B': [4, 5, 6], 'C': [7, 8, 9]})\n",
        "  corr = df.corr()\n",
        "  sns.heatmap(corr, annot=True, cmap='coolwarm')"
      ],
      "metadata": {
        "colab": {
          "base_uri": "https://localhost:8080/",
          "height": 106
        },
        "id": "-YjihaAdMwfJ",
        "outputId": "5fe68564-c704-4dca-e6ec-a5fb89b8e464"
      },
      "execution_count": 2,
      "outputs": [
        {
          "output_type": "error",
          "ename": "SyntaxError",
          "evalue": "invalid syntax (<ipython-input-2-b2b146d9b664>, line 2)",
          "traceback": [
            "\u001b[0;36m  File \u001b[0;32m\"<ipython-input-2-b2b146d9b664>\"\u001b[0;36m, line \u001b[0;32m2\u001b[0m\n\u001b[0;31m    - import seaborn as sns\u001b[0m\n\u001b[0m      ^\u001b[0m\n\u001b[0;31mSyntaxError\u001b[0m\u001b[0;31m:\u001b[0m invalid syntax\n"
          ]
        }
      ]
    },
    {
      "cell_type": "code",
      "source": [
        "# 5. Generate a bar plot using Plotly\n",
        "  import plotly.express as px\n",
        "  data = {'Fruits': ['Apple', 'Banana', 'Orange'], 'Count': [10, 15, 7]}\n",
        "  df = pd.DataFrame(data)\n",
        "  fig = px.bar(df, x='Fruits', y='Count', title='Fruit Count')\n",
        "  fig.show()\n"
      ],
      "metadata": {
        "id": "ClFcZfdOM3ad"
      },
      "execution_count": null,
      "outputs": []
    },
    {
      "cell_type": "code",
      "source": [
        "# 6.Create a DataFrame and add a new column based on an existing column\n",
        "  import pandas as pd\n",
        "  df = pd.DataFrame({'Price': [100, 200, 300]})\n",
        "  df['Price_With_Tax'] = df['Price'] * 1.1\n",
        "\n"
      ],
      "metadata": {
        "id": "f0TqlfLKMYqV"
      },
      "execution_count": null,
      "outputs": []
    },
    {
      "cell_type": "code",
      "source": [
        "# !A Write a program to perform element-wise multiplication of two NumPy arrays\n",
        "  import numpy as np\n",
        "  arr1 = np.array([1, 2, 3])\n",
        "  arr2 = np.array([4, 5, 6])\n",
        "  result = arr1 * arr2"
      ],
      "metadata": {
        "id": "L683vYzSM75r"
      },
      "execution_count": null,
      "outputs": []
    },
    {
      "cell_type": "code",
      "source": [
        "# 8. Create a line plot with multiple lines using Matplotlib\n",
        "  import matplotlib.pyplot as plt\n",
        "  x = [1, 2, 3, 4, 5]\n",
        "  y1 = [1, 4, 9, 16, 25]\n",
        "  y2 = [2, 3, 5, 7, 11]\n",
        "  plt.plot(x, y1, label='y1 = x^2')\n",
        "  plt.plot(x, y2, label='y2 = primes')\n",
        "  plt.xlabel('X Axis')\n",
        "  plt.ylabel('Y Axis')\n",
        "  plt.title('Multiple Line Plot')\n",
        "  plt.legend()\n",
        "  plt.show()"
      ],
      "metadata": {
        "id": "M46NTlz1NYGX"
      },
      "execution_count": null,
      "outputs": []
    },
    {
      "cell_type": "code",
      "source": [
        "# 9. Generate a Pandas DataFrame and filter rows where a column value is greater than a threshold\n",
        "  import pandas as pd\n",
        "  df = pd.DataFrame({'Name': ['A', 'B', 'C'], 'Score': [85, 92, 78]})\n",
        "  filtered_df = df[df['Score'] > 80]"
      ],
      "metadata": {
        "id": "V529ij04NX_Z"
      },
      "execution_count": null,
      "outputs": []
    },
    {
      "cell_type": "code",
      "source": [
        "# 10. Create a histogram using Seaborn to visualize a distribution\n",
        "  import seaborn as sns\n",
        "  import matplotlib.pyplot as plt\n",
        "  data = [10, 20, 20, 30, 30, 30, 40, 50]\n",
        "  sns.histplot(data, bins=5, kde=True)\n",
        "  plt.title('Histogram with KDE')\n",
        "  plt.show()\n"
      ],
      "metadata": {
        "id": "9xBF1wLWNcn3"
      },
      "execution_count": null,
      "outputs": []
    },
    {
      "cell_type": "code",
      "source": [
        "# 11. Perform matrix multiplication using NumPy\n",
        "  import numpy as np\n",
        "  a = np.array([[1, 2], [3, 4]])\n",
        "  b = np.array([[5, 6], [7, 8]])\n",
        "  result = np.dot(a, b)\n"
      ],
      "metadata": {
        "id": "9UTZDtSXNcj_"
      },
      "execution_count": null,
      "outputs": []
    },
    {
      "cell_type": "code",
      "source": [
        "# 12. Use Pandas to load a CSV file and display its first 5 rows\n",
        "  import pandas as pd\n",
        "  df = pd.read_csv('your_file.csv')\n",
        "  print(df.head())\n"
      ],
      "metadata": {
        "id": "ocunIidhNBmU"
      },
      "execution_count": null,
      "outputs": []
    },
    {
      "cell_type": "code",
      "source": [
        "\n",
        "# 13. Create a 3D scatter plot using Plotly\n",
        "  import plotly.express as px\n",
        "  import pandas as pd\n",
        "  df = pd.DataFrame({'x': [1, 2, 3], 'y': [4, 5, 6], 'z': [7, 8, 9]})\n",
        "  fig = px.scatter_3d(df, x='x', y='y', z='z', title='3D Scatter Plot')\n",
        "  fig.show()"
      ],
      "metadata": {
        "id": "9hTHHYXdNBi_"
      },
      "execution_count": null,
      "outputs": []
    },
    {
      "cell_type": "code",
      "source": [],
      "metadata": {
        "id": "apgiWiHKNkX8"
      },
      "execution_count": null,
      "outputs": []
    }
  ]
}