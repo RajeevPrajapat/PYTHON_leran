{
  "nbformat": 4,
  "nbformat_minor": 0,
  "metadata": {
    "colab": {
      "provenance": []
    },
    "kernelspec": {
      "name": "python3",
      "display_name": "Python 3"
    },
    "language_info": {
      "name": "python"
    }
  },
  "cells": [
    {
      "cell_type": "code",
      "execution_count": null,
      "metadata": {
        "id": "09mHObuOL88n"
      },
      "outputs": [],
      "source": []
    },
    {
      "cell_type": "markdown",
      "source": [
        "# 1. What is statistics, and why is it important?\n",
        "\"\"\"\n",
        "Statistics is the science of collecting, analyzing, interpreting, presenting, and organizing data.\n",
        "It helps in making informed decisions, identifying trends, and validating hypotheses in various fields\n",
        "like business, healthcare, science, and economics.\n",
        "\"\"\"\n",
        "\n",
        "# 2. What are the two main types of statistics?\n",
        "\"\"\"\n",
        "Descriptive statistics and inferential statistics.\n",
        "\"\"\"\n",
        "\n",
        "# 3. What are descriptive statistics?\n",
        "\"\"\"\n",
        "Descriptive statistics summarize and organize the features of a dataset using measures like mean,\n",
        "median, mode, range, variance, and standard deviation.\n",
        "\"\"\"\n",
        "\n",
        "# 4. What is inferential statistics?\n",
        "\"\"\"\n",
        "Inferential statistics involves drawing conclusions about a population based on a sample. It uses\n",
        "techniques like hypothesis testing, confidence intervals, and regression analysis.\n",
        "\"\"\"\n",
        "\n",
        "# 5. What is sampling in statistics?\n",
        "\"\"\"\n",
        "Sampling is the process of selecting a subset (sample) from a larger population to estimate population\n",
        "characteristics.\n",
        "\"\"\"\n",
        "\n",
        "# 6. What are the different types of sampling methods?\n",
        "\"\"\"\n",
        "- Simple Random Sampling  \n",
        "- Stratified Sampling  \n",
        "- Systematic Sampling  \n",
        "- Cluster Sampling  \n",
        "- Convenience Sampling\n",
        "\"\"\"\n",
        "\n",
        "# 7. What is the difference between random and non-random sampling?\n",
        "\"\"\"\n",
        "Random sampling gives every individual an equal chance of selection, reducing bias. Non-random sampling\n",
        "does not ensure equal chances, often leading to bias.\n",
        "\"\"\"\n",
        "\n",
        "# 8. Define and give examples of qualitative and quantitative data.\n",
        "\"\"\"\n",
        "Qualitative data is categorical (e.g., colors, names), while quantitative data is numerical\n",
        "(e.g., height, weight).\n",
        "\"\"\"\n",
        "\n",
        "# 9. What are the different types of data in statistics?\n",
        "\"\"\"\n",
        "- Qualitative (Nominal, Ordinal)  \n",
        "- Quantitative (Interval, Ratio)\n",
        "\"\"\"\n",
        "\n",
        "# 10. Explain nominal, ordinal, interval, and ratio levels of measurement.\n",
        "\"\"\"\n",
        "- Nominal: Categories without order (e.g., gender)  \n",
        "- Ordinal: Categories with order (e.g., rankings)  \n",
        "- Interval: Numeric, no true zero (e.g., temperature)  \n",
        "- Ratio: Numeric, true zero (e.g., age, height)\n",
        "\"\"\"\n",
        "\n",
        "# 11. What is the measure of central tendency?\n",
        "\"\"\"\n",
        "A measure that identifies the center of a dataset. Common measures include mean, median, and mode.\n",
        "\"\"\"\n",
        "\n",
        "# 12. Define mean, median, and mode.\n",
        "\"\"\"\n",
        "- Mean: Average of data points  \n",
        "- Median: Middle value  \n",
        "- Mode: Most frequent value\n",
        "\"\"\"\n",
        "\n",
        "# 13. What is the significance of the measure of central tendency?\n",
        "\"\"\"\n",
        "It helps summarize a dataset with a single value representing the center, aiding in data comparison.\n",
        "\"\"\"\n",
        "\n",
        "# 14. What is variance, and how is it calculated?\n",
        "\"\"\"\n",
        "Variance measures the average squared deviation from the mean.  \n",
        "Formula: σ² = Σ(x - μ)² / N\n",
        "\"\"\"\n",
        "\n",
        "# 15. What is standard deviation, and why is it important?\n",
        "\"\"\"\n",
        "Standard deviation is the square root of variance. It shows how spread out data is around the mean.\n",
        "\"\"\"\n",
        "\n",
        "# 16. Define and explain the term range in statistics.\n",
        "\"\"\"\n",
        "Range is the difference between the maximum and minimum values in a dataset.  \n",
        "Formula: Range = Max - Min\n",
        "\"\"\"\n",
        "\n",
        "# 17. What is the difference between variance and standard deviation?\n",
        "\"\"\"\n",
        "Variance is the average squared deviation from the mean, while standard deviation is its square root.\n",
        "\"\"\"\n",
        "\n",
        "# 18. What is skewness in a dataset?\n",
        "\"\"\"\n",
        "Skewness indicates the asymmetry of a distribution. Positive skew = tail on right, Negative skew = tail on left.\n",
        "\"\"\"\n",
        "\n",
        "# 19. What does it mean if a dataset is positively or negatively skewed?\n",
        "\"\"\"\n",
        "- Positive skew: Mean > Median  \n",
        "- Negative skew: Mean < Median\n",
        "\"\"\"\n",
        "\n",
        "# 20. Define and explain kurtosis.\n",
        "\"\"\"\n",
        "Kurtosis measures the \"tailedness\" of a distribution. High kurtosis = heavy tails, Low kurtosis = light tails.\n",
        "\"\"\"\n",
        "\n",
        "# 21. What is the purpose of covariance?\n",
        "\"\"\"\n",
        "Covariance measures how two variables vary together. Positive = same direction, Negative = opposite direction.\n",
        "\"\"\"\n",
        "\n",
        "# 22. What does correlation measure in statistics?\n",
        "\"\"\"\n",
        "Correlation quantifies the strength and direction of a linear relationship between two variables.\n",
        "\"\"\"\n",
        "\n",
        "# 23. What is the difference between covariance and correlation?\n",
        "\"\"\"\n",
        "Covariance shows direction of relation; correlation standardizes covariance, showing both strength and direction.\n",
        "\"\"\"\n",
        "\n",
        "# 24. What are some real-world applications of statistics?\n",
        "\"\"\"\n",
        "- Business analytics  \n",
        "- Medical research  \n",
        "- Weather forecasting  \n",
        "- Sports performance analysis  \n",
        "- Government policy decisions\n",
        "\"\"\""
      ],
      "metadata": {
        "id": "KuKQi-opMF7W"
      }
    },
    {
      "cell_type": "code",
      "source": [],
      "metadata": {
        "id": "HdB74q-qMLHn"
      },
      "execution_count": null,
      "outputs": []
    },
    {
      "cell_type": "code",
      "source": [
        "## practical"
      ],
      "metadata": {
        "id": "38AGlxv6MPYH"
      },
      "execution_count": 1,
      "outputs": []
    },
    {
      "cell_type": "code",
      "source": [
        "# 1. How do you calculate the mean, median, and mode of a dataset?\n",
        "import numpy as np\n",
        "import statistics as stats\n",
        "\n",
        "data = [10, 20, 20, 30, 40, 50]\n",
        "\n",
        "mean = np.mean(data)\n",
        "median = np.median(data)\n",
        "mode = stats.mode(data)\n",
        "\n",
        "print(\"Mean:\", mean)\n",
        "print(\"Median:\", median)\n",
        "print(\"Mode:\", mode)"
      ],
      "metadata": {
        "colab": {
          "base_uri": "https://localhost:8080/"
        },
        "id": "pPwh-ALHM02b",
        "outputId": "de798239-1b0c-4818-e2d5-af2116f41cb4"
      },
      "execution_count": 3,
      "outputs": [
        {
          "output_type": "stream",
          "name": "stdout",
          "text": [
            "Mean: 28.333333333333332\n",
            "Median: 25.0\n",
            "Mode: 20\n"
          ]
        }
      ]
    },
    {
      "cell_type": "code",
      "source": [
        "# 2. Write a Python program to compute the variance and standard deviation of a dataset.\n",
        "variance = np.var(data)\n",
        "std_dev = np.std(data)\n",
        "\n",
        "print(\"Variance:\", variance)\n",
        "print(\"Standard Deviation:\", std_dev)"
      ],
      "metadata": {
        "colab": {
          "base_uri": "https://localhost:8080/"
        },
        "id": "Wi6AOwIUM0yv",
        "outputId": "193f5bd8-bae3-4de4-8e3d-bdf02f969980"
      },
      "execution_count": 4,
      "outputs": [
        {
          "output_type": "stream",
          "name": "stdout",
          "text": [
            "Variance: 180.55555555555557\n",
            "Standard Deviation: 13.43709624716425\n"
          ]
        }
      ]
    },
    {
      "cell_type": "code",
      "source": [
        "# 3. Create a dataset and classify it into nominal, ordinal, interval, and ratio types.\n",
        "dataset = {\n",
        "    'Nominal': ['Red', 'Blue', 'Green'],\n",
        "    'Ordinal': ['Low', 'Medium', 'High'],\n",
        "    'Interval': [10, 20, 30],  # e.g., temperature in Celsius\n",
        "    'Ratio': [5, 10, 15]       # e.g., weight or height\n",
        "}\n",
        "print(dataset)"
      ],
      "metadata": {
        "colab": {
          "base_uri": "https://localhost:8080/"
        },
        "id": "EeXr4adAM0vf",
        "outputId": "0752bc47-025b-4338-ba57-02dd01ecf275"
      },
      "execution_count": 5,
      "outputs": [
        {
          "output_type": "stream",
          "name": "stdout",
          "text": [
            "{'Nominal': ['Red', 'Blue', 'Green'], 'Ordinal': ['Low', 'Medium', 'High'], 'Interval': [10, 20, 30], 'Ratio': [5, 10, 15]}\n"
          ]
        }
      ]
    },
    {
      "cell_type": "code",
      "source": [
        "# 4. Implement sampling techniques like random sampling and stratified sampling.\n",
        "import pandas as pd\n",
        "from sklearn.model_selection import train_test_split\n",
        "\n",
        "df = pd.DataFrame({\n",
        "    'Group': ['A']*5 + ['B']*5,\n",
        "    'Value': range(10)\n",
        "})\n",
        "# Random Sampling\n",
        "random_sample = df.sample(n=4)\n",
        "\n",
        "# Stratified Sampling\n",
        "stratified_sample = df.groupby('Group', group_keys=False).apply(lambda x: x.sample(2))\n",
        "\n",
        "print(\"Random Sample:\\n\", random_sample)\n",
        "print(\"Stratified Sample:\\n\", stratified_sample)\n"
      ],
      "metadata": {
        "colab": {
          "base_uri": "https://localhost:8080/"
        },
        "id": "SxQzH6a-M7UE",
        "outputId": "32d27d76-8a71-461d-f0e6-a7373f1d1f03"
      },
      "execution_count": 6,
      "outputs": [
        {
          "output_type": "stream",
          "name": "stdout",
          "text": [
            "Random Sample:\n",
            "   Group  Value\n",
            "8     B      8\n",
            "0     A      0\n",
            "6     B      6\n",
            "3     A      3\n",
            "Stratified Sample:\n",
            "   Group  Value\n",
            "2     A      2\n",
            "3     A      3\n",
            "9     B      9\n",
            "8     B      8\n"
          ]
        },
        {
          "output_type": "stream",
          "name": "stderr",
          "text": [
            "<ipython-input-6-e15d164b2e64>:13: DeprecationWarning: DataFrameGroupBy.apply operated on the grouping columns. This behavior is deprecated, and in a future version of pandas the grouping columns will be excluded from the operation. Either pass `include_groups=False` to exclude the groupings or explicitly select the grouping columns after groupby to silence this warning.\n",
            "  stratified_sample = df.groupby('Group', group_keys=False).apply(lambda x: x.sample(2))\n"
          ]
        }
      ]
    },
    {
      "cell_type": "code",
      "source": [
        "# 5. Write a Python function to calculate the range of a dataset.\n",
        "def calculate_range(data):\n",
        "    return max(data) - min(data)\n",
        "\n",
        "print(\"Range:\", calculate_range(data))"
      ],
      "metadata": {
        "colab": {
          "base_uri": "https://localhost:8080/"
        },
        "id": "-x2tNAqcM7RT",
        "outputId": "902fbfd1-5f21-4f72-e782-dc93ccf8214e"
      },
      "execution_count": 7,
      "outputs": [
        {
          "output_type": "stream",
          "name": "stdout",
          "text": [
            "Range: 40\n"
          ]
        }
      ]
    },
    {
      "cell_type": "code",
      "source": [
        "\n",
        "# 6. Create a dataset and plot its histogram to visualize skewness.\n",
        "import matplotlib.pyplot as plt\n",
        "\n",
        "plt.hist(data, bins=5)\n",
        "plt.title(\"Histogram\")\n",
        "plt.show()"
      ],
      "metadata": {
        "colab": {
          "base_uri": "https://localhost:8080/",
          "height": 452
        },
        "id": "fD6bOj-fM7Ou",
        "outputId": "2f407cb7-6546-419a-8eda-3cfaffe26319"
      },
      "execution_count": 8,
      "outputs": [
        {
          "output_type": "display_data",
          "data": {
            "text/plain": [
              "<Figure size 640x480 with 1 Axes>"
            ],
            "image/png": "[encoded data removed]"
          },
          "metadata": {}
        }
      ]
    },
    {
      "cell_type": "code",
      "source": [
        "# 7. Calculate skewness and kurtosis of a dataset using Python libraries.\n",
        "from scipy.stats import skew, kurtosis\n",
        "\n",
        "print(\"Skewness:\", skew(data))\n",
        "print(\"Kurtosis:\", kurtosis(data))"
      ],
      "metadata": {
        "colab": {
          "base_uri": "https://localhost:8080/"
        },
        "id": "20giOwY6NGcl",
        "outputId": "7fc817fa-ebd1-498b-ad54-72ce4c52ff7f"
      },
      "execution_count": 9,
      "outputs": [
        {
          "output_type": "stream",
          "name": "stdout",
          "text": [
            "Skewness: 0.3053162697580519\n",
            "Kurtosis: -1.151715976331361\n"
          ]
        }
      ]
    },
    {
      "cell_type": "code",
      "source": [
        "# 8. Generate a dataset and demonstrate positive and negative skewness.\n",
        "positive_skew = [1, 2, 3, 4, 5, 50]\n",
        "negative_skew = [50, 45, 40, 35, 30, 1]\n",
        "\n",
        "print(\"Positive Skewness:\", skew(positive_skew))\n",
        "print(\"Negative Skewness:\", skew(negative_skew))"
      ],
      "metadata": {
        "colab": {
          "base_uri": "https://localhost:8080/"
        },
        "id": "orLYuCi4NGZu",
        "outputId": "49d9a965-82ef-4fce-9125-96a91022675b"
      },
      "execution_count": 10,
      "outputs": [
        {
          "output_type": "stream",
          "name": "stdout",
          "text": [
            "Positive Skewness: 1.7671470501688828\n",
            "Negative Skewness: -1.1635356089889517\n"
          ]
        }
      ]
    },
    {
      "cell_type": "code",
      "source": [
        "# 9. Write a Python script to calculate covariance between two datasets.\n",
        "x = [2, 4, 6, 8]\n",
        "y = [1, 3, 5, 7]\n",
        "\n",
        "cov_matrix = np.cov(x, y)\n",
        "print(\"Covariance Matrix:\\n\", cov_matrix)"
      ],
      "metadata": {
        "colab": {
          "base_uri": "https://localhost:8080/"
        },
        "id": "ox_Ew1WdNGV7",
        "outputId": "86d5dca7-29a3-4e4d-8968-3514f4ac2ca0"
      },
      "execution_count": 11,
      "outputs": [
        {
          "output_type": "stream",
          "name": "stdout",
          "text": [
            "Covariance Matrix:\n",
            " [[6.66666667 6.66666667]\n",
            " [6.66666667 6.66666667]]\n"
          ]
        }
      ]
    },
    {
      "cell_type": "code",
      "source": [
        "\n",
        "# 10. Write a Python script to calculate the correlation coefficient between two datasets.\n",
        "correlation = np.corrcoef(x, y)\n",
        "print(\"Correlation Coefficient:\\n\", correlation)"
      ],
      "metadata": {
        "colab": {
          "base_uri": "https://localhost:8080/"
        },
        "id": "ZAnCZNcrNME5",
        "outputId": "47a81a33-7563-4dfc-b172-f08f649b7b9c"
      },
      "execution_count": 12,
      "outputs": [
        {
          "output_type": "stream",
          "name": "stdout",
          "text": [
            "Correlation Coefficient:\n",
            " [[1. 1.]\n",
            " [1. 1.]]\n"
          ]
        }
      ]
    },
    {
      "cell_type": "code",
      "source": [
        "# 11. Create a scatter plot to visualize the relationship between two variables.\n",
        "plt.scatter(x, y)\n",
        "plt.title(\"Scatter Plot\")\n",
        "plt.xlabel(\"X\")\n",
        "plt.ylabel(\"Y\")\n",
        "plt.show()"
      ],
      "metadata": {
        "colab": {
          "base_uri": "https://localhost:8080/",
          "height": 472
        },
        "id": "4WBFyRDJNMA2",
        "outputId": "e1bae97d-3728-409a-90e4-8f0c4fa27ab2"
      },
      "execution_count": 13,
      "outputs": [
        {
          "output_type": "display_data",
          "data": {
            "text/plain": [
              "<Figure size 640x480 with 1 Axes>"
            ],
            "image/png": "[encoded data removed]"
          },
          "metadata": {}
        }
      ]
    },
    {
      "cell_type": "code",
      "source": [
        "# 12. Implement and compare simple random sampling and systematic sampling.\n",
        "# Simple random sampling\n",
        "random_sample2 = df.sample(n=4)\n",
        "# Systematic sampling\n",
        "def systematic_sampling(df, step):\n",
        "    return df.iloc[::step]\n",
        "\n",
        "systematic_sample = systematic_sampling(df, 2)\n",
        "\n",
        "print(\"Simple Random Sample:\\n\", random_sample2)\n",
        "print(\"Systematic Sample:\\n\", systematic_sample)"
      ],
      "metadata": {
        "colab": {
          "base_uri": "https://localhost:8080/"
        },
        "id": "C5n8rIFrNQvV",
        "outputId": "0e1dd8e1-79ee-4eeb-8162-ffbf7e592802"
      },
      "execution_count": 14,
      "outputs": [
        {
          "output_type": "stream",
          "name": "stdout",
          "text": [
            "Simple Random Sample:\n",
            "   Group  Value\n",
            "6     B      6\n",
            "7     B      7\n",
            "4     A      4\n",
            "8     B      8\n",
            "Systematic Sample:\n",
            "   Group  Value\n",
            "0     A      0\n",
            "2     A      2\n",
            "4     A      4\n",
            "6     B      6\n",
            "8     B      8\n"
          ]
        }
      ]
    },
    {
      "cell_type": "code",
      "source": [
        "\n",
        "# 13. Calculate the mean, median, and mode of grouped data.\n",
        "grouped_data = {'0-10': 2, '10-20': 5, '20-30': 3}\n",
        "values = [5]*2 + [15]*5 + [25]*3\n",
        "\n",
        "print(\"Grouped Mean:\", np.mean(values))\n",
        "print(\"Grouped Median:\", np.median(values))\n",
        "print(\"Grouped Mode:\", stats.mode(values))"
      ],
      "metadata": {
        "colab": {
          "base_uri": "https://localhost:8080/"
        },
        "id": "SEv1bKKXNQmx",
        "outputId": "6302782f-6b2f-49bd-919a-c17abecf123c"
      },
      "execution_count": 15,
      "outputs": [
        {
          "output_type": "stream",
          "name": "stdout",
          "text": [
            "Grouped Mean: 16.0\n",
            "Grouped Median: 15.0\n",
            "Grouped Mode: 15\n"
          ]
        }
      ]
    },
    {
      "cell_type": "code",
      "source": [
        "# 14. Simulate data using Python and calculate its central tendency and dispersion.\n",
        "simulated_data = np.random.normal(loc=50, scale=10, size=1000)\n",
        "\n",
        "print(\"Simulated Mean:\", np.mean(simulated_data))\n",
        "print(\"Simulated Median:\", np.median(simulated_data))\n",
        "print(\"Simulated Std Dev:\", np.std(simulated_data))\n",
        "\n",
        "plt.hist(simulated_data, bins=30)\n",
        "plt.title(\"Simulated Data Histogram\")\n",
        "plt.show()"
      ],
      "metadata": {
        "colab": {
          "base_uri": "https://localhost:8080/",
          "height": 504
        },
        "id": "aESo31k9MRbP",
        "outputId": "d8b1ebd0-d52f-4fa8-f4d4-9e9e8ec2ee78"
      },
      "execution_count": 16,
      "outputs": [
        {
          "output_type": "stream",
          "name": "stdout",
          "text": [
            "Simulated Mean: 49.73461809138294\n",
            "Simulated Median: 49.81185502385141\n",
            "Simulated Std Dev: 10.139797018983893\n"
          ]
        },
        {
          "output_type": "display_data",
          "data": {
            "text/plain": [
              "<Figure size 640x480 with 1 Axes>"
            ],
            "image/png": "[encoded data removed]"
          },
          "metadata": {}
        }
      ]
    },
    {
      "cell_type": "code",
      "source": [
        "import numpy as np\n",
        "import pandas as pd\n",
        "import matplotlib.pyplot as plt\n",
        "import seaborn as sns\n",
        "from scipy.stats import iqr, zscore, skew, kurtosis, pearsonr, spearmanr"
      ],
      "metadata": {
        "id": "Mhma7oJWMwXp"
      },
      "execution_count": 18,
      "outputs": []
    },
    {
      "cell_type": "code",
      "source": [
        "# 15. Use NumPy or pandas to summarize a dataset’s descriptive statistics.\n",
        "df = pd.DataFrame({\n",
        "    'Scores': [45, 55, 65, 70, 85, 90, 95, 100]\n",
        "})\n",
        "print(df.describe())"
      ],
      "metadata": {
        "colab": {
          "base_uri": "https://localhost:8080/"
        },
        "id": "iXrBOnf_NoTi",
        "outputId": "9a622a97-0365-4849-d913-8af57d03fd3b"
      },
      "execution_count": 19,
      "outputs": [
        {
          "output_type": "stream",
          "name": "stdout",
          "text": [
            "         Scores\n",
            "count    8.0000\n",
            "mean    75.6250\n",
            "std     19.8993\n",
            "min     45.0000\n",
            "25%     62.5000\n",
            "50%     77.5000\n",
            "75%     91.2500\n",
            "max    100.0000\n"
          ]
        }
      ]
    },
    {
      "cell_type": "code",
      "source": [
        "# 16. Plot a boxplot to understand the spread and identify outliers.\n",
        "sns.boxplot(data=df['Scores'])\n",
        "plt.title(\"Boxplot of Scores\")\n",
        "plt.show()"
      ],
      "metadata": {
        "colab": {
          "base_uri": "https://localhost:8080/",
          "height": 433
        },
        "id": "R75OHN1JNo2a",
        "outputId": "880e0fdb-eaab-40ea-c67b-45d3ae2f1656"
      },
      "execution_count": 20,
      "outputs": [
        {
          "output_type": "display_data",
          "data": {
            "text/plain": [
              "<Figure size 640x480 with 1 Axes>"
            ],
            "image/png": "[encoded data removed]"
          },
          "metadata": {}
        }
      ]
    },
    {
      "cell_type": "code",
      "source": [
        "# 17. Calculate the interquartile range (IQR) of a dataset.\n",
        "iqr_value = iqr(df['Scores'])\n",
        "print(\"Interquartile Range (IQR):\", iqr_value)\n",
        "\n"
      ],
      "metadata": {
        "colab": {
          "base_uri": "https://localhost:8080/"
        },
        "id": "wT2h4JQDNovy",
        "outputId": "d1b3c1b0-32c3-4ff6-f699-924ff5a61896"
      },
      "execution_count": 21,
      "outputs": [
        {
          "output_type": "stream",
          "name": "stdout",
          "text": [
            "Interquartile Range (IQR): 28.75\n"
          ]
        }
      ]
    },
    {
      "cell_type": "code",
      "source": [
        "# 18. Implement Z-score normalization and explain its significance.\n",
        "df['Z_Score'] = zscore(df['Scores'])\n",
        "print(df)\n",
        "\n",
        "\"\"\"\n",
        "Z-score normalization standardizes data by subtracting the mean and dividing by the standard deviation.\n",
        "This helps compare values across different scales or distributions.\n",
        "\"\"\""
      ],
      "metadata": {
        "colab": {
          "base_uri": "https://localhost:8080/",
          "height": 209
        },
        "id": "-Pv2qfCLNy1d",
        "outputId": "2d2135c5-a04f-4cfa-f954-88040c71aae3"
      },
      "execution_count": 22,
      "outputs": [
        {
          "output_type": "stream",
          "name": "stdout",
          "text": [
            "   Scores   Z_Score\n",
            "0      45 -1.645259\n",
            "1      55 -1.108032\n",
            "2      65 -0.570804\n",
            "3      70 -0.302190\n",
            "4      85  0.503651\n",
            "5      90  0.772264\n",
            "6      95  1.040878\n",
            "7     100  1.309492\n"
          ]
        },
        {
          "output_type": "execute_result",
          "data": {
            "text/plain": [
              "'\\nZ-score normalization standardizes data by subtracting the mean and dividing by the standard deviation.\\nThis helps compare values across different scales or distributions.\\n'"
            ],
            "application/vnd.google.colaboratory.intrinsic+json": {
              "type": "string"
            }
          },
          "metadata": {},
          "execution_count": 22
        }
      ]
    },
    {
      "cell_type": "code",
      "source": [
        "# 19. Compare two datasets using their standard deviations.\n",
        "data1 = np.random.normal(50, 5, 100)\n",
        "data2 = np.random.normal(50, 15, 100)\n",
        "\n",
        "std1 = np.std(data1)\n",
        "std2 = np.std(data2)\n",
        "\n",
        "print(\"Std Dev of Dataset 1:\", std1)\n",
        "print(\"Std Dev of Dataset 2:\", std2)\n",
        "\n"
      ],
      "metadata": {
        "colab": {
          "base_uri": "https://localhost:8080/"
        },
        "id": "WSsLz0avNyyo",
        "outputId": "27cce075-55dc-4313-b3d9-a80329c86047"
      },
      "execution_count": 23,
      "outputs": [
        {
          "output_type": "stream",
          "name": "stdout",
          "text": [
            "Std Dev of Dataset 1: 4.803884233820688\n",
            "Std Dev of Dataset 2: 15.07778332224486\n"
          ]
        }
      ]
    },
    {
      "cell_type": "code",
      "source": [
        "# 20. Write a Python program to visualize covariance using a heatmap.\n",
        "df2 = pd.DataFrame({\n",
        "    'Math': np.random.randint(40, 100, 50),\n",
        "    'Science': np.random.randint(40, 100, 50)\n",
        "})\n",
        "cov_matrix = df2.cov()\n",
        "sns.heatmap(cov_matrix, annot=True, cmap='coolwarm')\n",
        "plt.title(\"Covariance Heatmap\")\n",
        "plt.show()"
      ],
      "metadata": {
        "colab": {
          "base_uri": "https://localhost:8080/",
          "height": 452
        },
        "id": "fbH57dINN425",
        "outputId": "f3d885aa-9493-44ce-d109-117a1fad9df8"
      },
      "execution_count": 24,
      "outputs": [
        {
          "output_type": "display_data",
          "data": {
            "text/plain": [
              "<Figure size 640x480 with 2 Axes>"
            ],
            "image/png": "[encoded data removed]"
          },
          "metadata": {}
        }
      ]
    },
    {
      "cell_type": "code",
      "source": [
        "# 21. Use seaborn to create a correlation matrix for a dataset.\n",
        "corr_matrix = df2.corr()\n",
        "sns.heatmap(corr_matrix, annot=True, cmap='Blues')\n",
        "plt.title(\"Correlation Matrix\")\n",
        "plt.show()\n",
        "\n",
        "\n"
      ],
      "metadata": {
        "colab": {
          "base_uri": "https://localhost:8080/",
          "height": 452
        },
        "id": "vN8R1WR7N6r-",
        "outputId": "db5e1120-bc85-4e88-cb6b-da631b974b8a"
      },
      "execution_count": 25,
      "outputs": [
        {
          "output_type": "display_data",
          "data": {
            "text/plain": [
              "<Figure size 640x480 with 2 Axes>"
            ],
            "image/png": "[encoded data removed]"
          },
          "metadata": {}
        }
      ]
    },
    {
      "cell_type": "code",
      "source": [
        "# 22. Generate a dataset and implement both variance and standard deviation computations.\n",
        "data = np.random.randint(10, 100, 20)\n",
        "print(\"Dataset:\", data)\n",
        "print(\"Variance:\", np.var(data))\n",
        "print(\"Standard Deviation:\", np.std(data))"
      ],
      "metadata": {
        "colab": {
          "base_uri": "https://localhost:8080/"
        },
        "id": "lCx0Q6ihOBf-",
        "outputId": "48e7a73b-1a08-42d8-dbb0-eb75e12001d3"
      },
      "execution_count": 26,
      "outputs": [
        {
          "output_type": "stream",
          "name": "stdout",
          "text": [
            "Dataset: [98 32 89 24 24 69 32 71 93 44 84 75 37 47 88 24 68 24 93 53]\n",
            "Variance: 701.0474999999999\n",
            "Standard Deviation: 26.47730159967212\n"
          ]
        }
      ]
    },
    {
      "cell_type": "code",
      "source": [
        "\n",
        "# 23. Visualize skewness and kurtosis using Python libraries like matplotlib or seaborn.\n",
        "sns.histplot(data, kde=True)\n",
        "plt.title(\"Histogram with KDE\")\n",
        "plt.show()\n",
        "\n",
        "print(\"Skewness:\", skew(data))\n",
        "print(\"Kurtosis:\", kurtosis(data))"
      ],
      "metadata": {
        "colab": {
          "base_uri": "https://localhost:8080/",
          "height": 487
        },
        "id": "VGxHgFmIN6nQ",
        "outputId": "13c2b8e1-05d0-4cf5-b802-36453de2381e"
      },
      "execution_count": 27,
      "outputs": [
        {
          "output_type": "display_data",
          "data": {
            "text/plain": [
              "<Figure size 640x480 with 1 Axes>"
            ],
            "image/png": "[encoded data removed]"
          },
          "metadata": {}
        },
        {
          "output_type": "stream",
          "name": "stdout",
          "text": [
            "Skewness: 0.02370156221483039\n",
            "Kurtosis: -1.5387587305032295\n"
          ]
        }
      ]
    },
    {
      "cell_type": "code",
      "source": [
        "\n",
        "# 23. Visualize skewness and kurtosis using Python libraries like matplotlib or seaborn.\n",
        "sns.histplot(data, kde=True)\n",
        "plt.title(\"Histogram with KDE\")\n",
        "plt.show()\n",
        "\n",
        "print(\"Skewness:\", skew(data))\n",
        "print(\"Kurtosis:\", kurtosis(data))"
      ],
      "metadata": {
        "colab": {
          "base_uri": "https://localhost:8080/",
          "height": 487
        },
        "id": "jRDqQkO6OEUm",
        "outputId": "2bdc8bbc-4483-4841-ee85-c8ebca666d9b"
      },
      "execution_count": 28,
      "outputs": [
        {
          "output_type": "display_data",
          "data": {
            "text/plain": [
              "<Figure size 640x480 with 1 Axes>"
            ],
            "image/png": "[encoded data removed]"
          },
          "metadata": {}
        },
        {
          "output_type": "stream",
          "name": "stdout",
          "text": [
            "Skewness: 0.02370156221483039\n",
            "Kurtosis: -1.5387587305032295\n"
          ]
        }
      ]
    },
    {
      "cell_type": "code",
      "source": [],
      "metadata": {
        "id": "CeQPQnFZOEND"
      },
      "execution_count": 28,
      "outputs": []
    }
  ]
}