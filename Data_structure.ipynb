{
  "cells": [
    {
      "cell_type": "markdown",
      "metadata": {
        "id": "oExVocwRgj4j"
      },
      "source": [
        "# Data **structure**"
      ]
    },
    {
      "cell_type": "markdown",
      "metadata": {
        "id": "e8tgtpdogriV"
      },
      "source": [
        "### Theroy Question"
      ]
    },
    {
      "cell_type": "markdown",
      "metadata": {
        "id": "iW5xf1Q8Y5EZ"
      },
      "source": [
        "Q1: What are data structures, and why are they important?\n",
        "\n",
        "* Data structures are specialized formats for organizing, storing, and managing data efficiently. They are important because they help optimize algorithms, improve processing speed, and provide efficient data manipulation for various applications. Examples include arrays, lists, stacks, queues, and dictionaries.   \n",
        "\n",
        "\n",
        "    \n",
        "\n",
        "Q2: Explain the difference between mutable and immutable data types with examples.\n",
        "* Mutable data types can be changed after creation. Example: Lists (list), Dictionaries (dict), Sets (set).\n",
        "my_list = [1, 2, 3]\n",
        "my_list.append(4)  # List is modified\n",
        "Immutable data types cannot be changed after creation. Example: Tuples (tuple), Strings (str), Integers (int).\n",
        "my_tuple = (1, 2, 3)\n",
        "my_tuple[0] = 4  # Error: Tuples are immutable.\n",
        "\n",
        "Q3: What are the main differences between lists and tuples in Python?\n",
        "* Feature\tList (list)\tTuple (tuple)\n",
        "Mutability\tMutable\tImmutable\n",
        "Performance\tSlower due to flexibility\tFaster due to immutability\n",
        "Syntax\tDefined using []\tDefined using ()\n",
        "Usage\tWhen data changes frequently\tWhen data should remain constant.\n",
        "\n",
        "Q4: Describe how dictionaries store data.\n",
        "* Dictionaries store data as key-value pairs. They use a hash table internally to provide fast lookups, insertions, and deletions. Example:\n",
        "my_dict = {\"name\": \"Alice\", \"age\": 25}\n",
        "print(my_dict[\"name\"])  # Output: Alice.\n",
        "\n",
        "Q5: Why might you use a set instead of a list in Python?\n",
        "* Sets are used when uniqueness is required, as they automatically remove duplicate values. They also provide faster membership checks (in operation) compared to lists.\n",
        "my_set = {1, 2, 2, 3}\n",
        "print(my_set)  # Output: {1, 2, 3}.\n",
        "\n",
        "Q6: What is a string in Python, and how is it different from a list?\n",
        "* A string is a sequence of characters, whereas a list is a sequence of elements (which can be of different types). Strings are immutable, while lists are mutable.\n",
        "\n",
        "s = \"hello\"\n",
        "s[0] = \"H\"  # Error: Strings are immutable\n",
        "\n",
        "l = ['h', 'e', 'l', 'l', 'o']\n",
        "l[0] = 'H'  # Allowed: Lists are mutable.\n",
        "\n",
        "Q7: How do tuples ensure data integrity in Python?\n",
        "* Tuples are immutable, meaning their elements cannot be changed after creation. This ensures that critical data remains unaltered, preventing accidental modifications.\n",
        "\n",
        "Q8: What is a hash table, and how does it relate to dictionaries in Python?\n",
        "* A hash table is a data structure that stores key-value pairs using a hash function for quick lookups. Python dictionaries are implemented using hash tables, enabling O(1) average time complexity for retrieval.\n",
        "\n",
        "Q9: Can lists contain different data types in Python?\n",
        "* Yes, lists can store multiple data types. Example.\n",
        "my_list = [1, \"hello\", 3.14, [5, 6]].\n",
        "\n",
        "Q10: Explain why strings are immutable in Python.\n",
        "* Strings are immutable to enhance security, simplify memory management, and improve performance by allowing Python to optimize memory allocation using string interning.\n",
        "\n",
        "Q11: What advantages do dictionaries offer over lists for certain tasks?\n",
        "* Dictionaries provide fast lookups using keys (O(1) complexity), whereas lists require linear searches (O(n)). They are preferable for scenarios requiring quick access to data using unique identifiers.\n",
        "\n",
        "Q12: Describe a scenario where using a tuple would be preferable over a list.\n",
        "* Tuples are preferable when storing fixed data, such as coordinates ((x, y, z)) or database records, where immutability ensures integrity.\n",
        "\n",
        "Q13: How do sets handle duplicate values in Python?\n",
        "* Sets automatically eliminate duplicate values upon insertion. Example:\n",
        "s = {1, 2, 2, 3}\n",
        "print(s)  # Output: {1, 2, 3}.\n",
        "\n",
        "Q14: How does the “in” keyword work differently for lists and dictionaries?\n",
        "* Lists: The in keyword checks if a value exists, requiring a linear search (O(n)).\n",
        "Dictionaries: The in keyword checks if a key exists using a hash table (O(1) average complexity).\n",
        "\n",
        "Q15: Can you modify the elements of a tuple? Explain why or why not.\n",
        "* No, tuples are immutable, meaning elements cannot be modified after creation. Attempting to change an element results in a TypeError.\n",
        "\n",
        "Q16: What is a nested dictionary, and give an example of its use case?\n",
        "* A nested dictionary is a dictionary within a dictionary. Example:\n",
        "students = {\n",
        "    \"Alice\": {\"age\": 25, \"grade\": \"A\"},\n",
        "    \"Bob\": {\"age\": 23, \"grade\": \"B\"}\n",
        "}\n",
        "print(students[\"Alice\"][\"grade\"])  # Output: A\n",
        "Use case: Storing hierarchical or structured data.\n",
        "\n",
        "Q17: Describe the time complexity of accessing elements in a dictionary.\n",
        "* The average time complexity for dictionary key lookups is O(1) due to hash table implementation. However, in worst-case scenarios (hash collisions), it can be O(n).\n",
        "\n",
        "Q18: In what situations are lists preferred over dictionaries?\n",
        "* Lists are preferred when order matters or when sequential access is needed, such as iterating over elements in a defined order.\n",
        "\n",
        "Q19: Why are dictionaries considered unordered, and how does that affect data retrieval?\n",
        "* Before Python 3.7, dictionaries were unordered because they used hash tables for storage. Since Python 3.7, dictionaries maintain insertion order but are still accessed using keys rather than indices.\n",
        "\n",
        "Q20: Explain the difference between a list and a dictionary in terms of data retrieval.\n",
        "* Lists: Retrieval is done using an index (O(1)) but searching for an element requires O(n).\n",
        "Dictionaries: Retrieval is done using a key, which is faster (O(1)) due to hashing."
      ]
    },
    {
      "cell_type": "markdown",
      "metadata": {
        "id": "eGiS8Ieweor3"
      },
      "source": [
        " ## **Practical Questions**"
      ]
    },
    {
      "cell_type": "code",
      "execution_count": 3,
      "metadata": {
        "colab": {
          "base_uri": "https://localhost:8080/"
        },
        "id": "BNcXV_SBZ8Bt",
        "outputId": "d051b3d4-e073-4509-d7d6-f8cef3fab8cb"
      },
      "outputs": [
        {
          "name": "stdout",
          "output_type": "stream",
          "text": [
            "John Doe\n"
          ]
        }
      ],
      "source": [
        "# DP Write a code to create a string with your name and print it\n",
        "my_name = \"John Doe\"  # Replace with your name\n",
        "print(my_name)"
      ]
    },
    {
      "cell_type": "code",
      "execution_count": 4,
      "metadata": {
        "colab": {
          "base_uri": "https://localhost:8080/"
        },
        "id": "V1qzN3RJeAyl",
        "outputId": "82c76b2e-3001-43da-c9a9-860535383300"
      },
      "outputs": [
        {
          "name": "stdout",
          "output_type": "stream",
          "text": [
            "11\n"
          ]
        }
      ],
      "source": [
        "# Write a code to find the length of the string \"Hello World\"\n",
        "string_1 = \"Hello World\"\n",
        "print(len(string_1))\n"
      ]
    },
    {
      "cell_type": "code",
      "execution_count": 5,
      "metadata": {
        "colab": {
          "base_uri": "https://localhost:8080/"
        },
        "id": "dqyGT6lXeA-t",
        "outputId": "698b4a8e-2170-48c3-d8f2-da4627f58b7c"
      },
      "outputs": [
        {
          "name": "stdout",
          "output_type": "stream",
          "text": [
            "Pyt\n"
          ]
        }
      ],
      "source": [
        "#Write a code to slice the first 3 characters from the string \"Python Programming\"\n",
        "string_2 = \"Python Programming\"\n",
        "print(string_2[:3])\n"
      ]
    },
    {
      "cell_type": "code",
      "execution_count": 6,
      "metadata": {
        "colab": {
          "base_uri": "https://localhost:8080/"
        },
        "id": "JPWalWp-eBBe",
        "outputId": "753819de-c0f7-4de0-9569-5e40af9684a3"
      },
      "outputs": [
        {
          "name": "stdout",
          "output_type": "stream",
          "text": [
            "HELLO\n"
          ]
        }
      ],
      "source": [
        "# Write a code to convert the string \"hello\" to uppercase\n",
        "string_3 = \"hello\"\n",
        "print(string_3.upper())"
      ]
    },
    {
      "cell_type": "code",
      "execution_count": 7,
      "metadata": {
        "colab": {
          "base_uri": "https://localhost:8080/"
        },
        "id": "driTp7DDeBEU",
        "outputId": "a4fd6a5a-dc01-47a0-b411-7f3cce31fc72"
      },
      "outputs": [
        {
          "name": "stdout",
          "output_type": "stream",
          "text": [
            "I like orange\n"
          ]
        }
      ],
      "source": [
        "# Write a code to replace the word \"apple\" with \"orange\" in the string \"I like apple\"\n",
        "string_4 = \"I like apple\"\n",
        "print(string_4.replace(\"apple\", \"orange\"))"
      ]
    },
    {
      "cell_type": "code",
      "execution_count": 8,
      "metadata": {
        "colab": {
          "base_uri": "https://localhost:8080/"
        },
        "id": "Ue739xrkeBHS",
        "outputId": "e18266c3-8117-4847-e427-8282030c81e7"
      },
      "outputs": [
        {
          "name": "stdout",
          "output_type": "stream",
          "text": [
            "[1, 2, 3, 4, 5]\n"
          ]
        }
      ],
      "source": [
        "#  Write a code to create a list with numbers 1 to 5 and print it\n",
        "num_list = [1, 2, 3, 4, 5]\n",
        "print(num_list)"
      ]
    },
    {
      "cell_type": "code",
      "execution_count": 9,
      "metadata": {
        "colab": {
          "base_uri": "https://localhost:8080/"
        },
        "id": "QDWAoVn9eaUQ",
        "outputId": "4ee0fce4-1fc0-4937-b6bf-821940494263"
      },
      "outputs": [
        {
          "name": "stdout",
          "output_type": "stream",
          "text": [
            "[1, 2, 3, 4, 10]\n"
          ]
        }
      ],
      "source": [
        "#  Write a code to append the number 10 to the list [1, 2, 3, 4]\n",
        "num_list_2 = [1, 2, 3, 4]\n",
        "num_list_2.append(10)\n",
        "print(num_list_2)"
      ]
    },
    {
      "cell_type": "code",
      "execution_count": 10,
      "metadata": {
        "colab": {
          "base_uri": "https://localhost:8080/"
        },
        "id": "_az5CQ1meaWz",
        "outputId": "db905602-db10-4c9e-dffc-c54e871ce820"
      },
      "outputs": [
        {
          "name": "stdout",
          "output_type": "stream",
          "text": [
            "[1, 2, 4, 5]\n"
          ]
        }
      ],
      "source": [
        "#  Write a code to remove the number 3 from the list [1, 2, 3, 4, 5]\n",
        "num_list_3 = [1, 2, 3, 4, 5]\n",
        "num_list_3.remove(3)\n",
        "print(num_list_3)"
      ]
    },
    {
      "cell_type": "code",
      "execution_count": 11,
      "metadata": {
        "colab": {
          "base_uri": "https://localhost:8080/"
        },
        "id": "cAvULRGUeaaE",
        "outputId": "79b1ad8b-fc06-4057-9295-77a5201ded05"
      },
      "outputs": [
        {
          "name": "stdout",
          "output_type": "stream",
          "text": [
            "b\n"
          ]
        }
      ],
      "source": [
        "#  Write a code to access the second element in the list ['a', 'b', 'c', 'd']\n",
        "char_list = ['a', 'b', 'c', 'd']\n",
        "print(char_list[1])"
      ]
    },
    {
      "cell_type": "code",
      "execution_count": 12,
      "metadata": {
        "colab": {
          "base_uri": "https://localhost:8080/"
        },
        "id": "ukqXndByeadW",
        "outputId": "4b4b5533-92e5-4e29-dce6-488df03e6654"
      },
      "outputs": [
        {
          "name": "stdout",
          "output_type": "stream",
          "text": [
            "[50, 40, 30, 20, 10]\n"
          ]
        }
      ],
      "source": [
        "#  Write a code to reverse the list [10, 20, 30, 40, 50]\n",
        "num_list_4 = [10, 20, 30, 40, 50]\n",
        "num_list_4.reverse()\n",
        "print(num_list_4)"
      ]
    },
    {
      "cell_type": "code",
      "execution_count": 13,
      "metadata": {
        "colab": {
          "base_uri": "https://localhost:8080/"
        },
        "id": "wnbWeW-Weajt",
        "outputId": "bc65bdec-1519-4bff-847c-1f9de1ba948a"
      },
      "outputs": [
        {
          "name": "stdout",
          "output_type": "stream",
          "text": [
            "(100, 200, 300)\n"
          ]
        }
      ],
      "source": [
        "# 11. Write a code to create a tuple with the elements 100, 200, 300 and print it.\n",
        "my_tuple = (100, 200, 300)\n",
        "print(my_tuple)\n"
      ]
    },
    {
      "cell_type": "code",
      "execution_count": 14,
      "metadata": {
        "colab": {
          "base_uri": "https://localhost:8080/"
        },
        "id": "ENBp2NwJean6",
        "outputId": "2b152de9-ac45-4a9d-8c3c-0f06714c01e9"
      },
      "outputs": [
        {
          "name": "stdout",
          "output_type": "stream",
          "text": [
            "blue\n"
          ]
        }
      ],
      "source": [
        "# 12. Write a code to access the second-to-last element of the tuple ('red', 'green', 'blue', 'yellow').\n",
        "colors = ('red', 'green', 'blue', 'yellow')\n",
        "print(colors[-2])  # Output: 'blue'\n"
      ]
    },
    {
      "cell_type": "code",
      "execution_count": 15,
      "metadata": {
        "colab": {
          "base_uri": "https://localhost:8080/"
        },
        "id": "luyS_mpJear3",
        "outputId": "2627b62e-a467-4614-ae9c-db9be42815b4"
      },
      "outputs": [
        {
          "name": "stdout",
          "output_type": "stream",
          "text": [
            "5\n"
          ]
        }
      ],
      "source": [
        "# 13. Write a code to find the minimum number in the tuple (10, 20, 5, 15).\n",
        "numbers = (10, 20, 5, 15)\n",
        "print(min(numbers))  # Output: 5"
      ]
    },
    {
      "cell_type": "code",
      "execution_count": 16,
      "metadata": {
        "colab": {
          "base_uri": "https://localhost:8080/"
        },
        "id": "ap7zszIbZ9Qu",
        "outputId": "7ff769b2-b3af-4721-e7cd-bad60f7d5f5b"
      },
      "outputs": [
        {
          "name": "stdout",
          "output_type": "stream",
          "text": [
            "1\n"
          ]
        }
      ],
      "source": [
        "# 14. Write a code to find the index of the element \"cat\" in the tuple ('dog', 'cat', 'rabbit').\n",
        "animals = ('dog', 'cat', 'rabbit')\n",
        "print(animals.index('cat'))  # Output: 1"
      ]
    },
    {
      "cell_type": "code",
      "execution_count": 17,
      "metadata": {
        "colab": {
          "base_uri": "https://localhost:8080/"
        },
        "id": "C-YEg8I0d_cP",
        "outputId": "41118d1e-e1e2-4461-9475-8239ea9a03d6"
      },
      "outputs": [
        {
          "name": "stdout",
          "output_type": "stream",
          "text": [
            "False\n"
          ]
        }
      ],
      "source": [
        "# 15. Write a code to create a tuple containing three different fruits and check if \"kiwi\" is in it.\n",
        "fruits = (\"apple\", \"banana\", \"orange\")\n",
        "print(\"kiwi\" in fruits)  # Output: False"
      ]
    },
    {
      "cell_type": "code",
      "execution_count": 18,
      "metadata": {
        "colab": {
          "base_uri": "https://localhost:8080/"
        },
        "id": "ZiNZhGhNd_e1",
        "outputId": "365950a7-0c0e-42d4-eb2f-1d7e59f01749"
      },
      "outputs": [
        {
          "name": "stdout",
          "output_type": "stream",
          "text": [
            "{'c', 'a', 'b'}\n"
          ]
        }
      ],
      "source": [
        "# 16. Write a code to create a set with the elements 'a', 'b', 'c' and print it.\n",
        "my_set = {'a', 'b', 'c'}\n",
        "print(my_set)"
      ]
    },
    {
      "cell_type": "code",
      "execution_count": 19,
      "metadata": {
        "colab": {
          "base_uri": "https://localhost:8080/"
        },
        "id": "kFpHNIOZd_iD",
        "outputId": "dbaeb5bb-02af-47a6-c297-2b85df71cfcf"
      },
      "outputs": [
        {
          "name": "stdout",
          "output_type": "stream",
          "text": [
            "set()\n"
          ]
        }
      ],
      "source": [
        "# 17. Write a code to clear all elements from the set {1, 2, 3, 4, 5}.\n",
        "num_set = {1, 2, 3, 4, 5}\n",
        "num_set.clear()\n",
        "print(num_set)  # Output: set()"
      ]
    },
    {
      "cell_type": "code",
      "execution_count": 20,
      "metadata": {
        "colab": {
          "base_uri": "https://localhost:8080/"
        },
        "id": "GEISfnhyd_lD",
        "outputId": "cf07bf9f-4be6-410e-e5fd-ef0910d5e7cc"
      },
      "outputs": [
        {
          "name": "stdout",
          "output_type": "stream",
          "text": [
            "{1, 2, 3}\n"
          ]
        }
      ],
      "source": [
        "# 18. Write a code to remove the element 4 from the set {1, 2, 3, 4}.\n",
        "num_set_2 = {1, 2, 3, 4}\n",
        "num_set_2.remove(4)\n",
        "print(num_set_2)  # Output: {1, 2, 3}"
      ]
    },
    {
      "cell_type": "code",
      "execution_count": 21,
      "metadata": {
        "colab": {
          "base_uri": "https://localhost:8080/"
        },
        "id": "SxakkM4ldyER",
        "outputId": "233c73b7-0afd-437f-f091-b76bba7cee83"
      },
      "outputs": [
        {
          "name": "stdout",
          "output_type": "stream",
          "text": [
            "{1, 2, 3, 4, 5}\n"
          ]
        }
      ],
      "source": [
        "# 19. Write a code to find the union of two sets {1, 2, 3} and {3, 4, 5}.\n",
        "set1 = {1, 2, 3}\n",
        "set2 = {3, 4, 5}\n",
        "print(set1.union(set2))  # Output: {1, 2, 3, 4, 5}"
      ]
    },
    {
      "cell_type": "code",
      "execution_count": 22,
      "metadata": {
        "colab": {
          "base_uri": "https://localhost:8080/"
        },
        "id": "a1AOx14JfphH",
        "outputId": "62ad2492-383b-4d51-e81b-f36472697960"
      },
      "outputs": [
        {
          "name": "stdout",
          "output_type": "stream",
          "text": [
            "{2, 3}\n"
          ]
        }
      ],
      "source": [
        "# 20. Write a code to find the intersection of two sets {1, 2, 3} and {2, 3, 4}.\n",
        "set3 = {1, 2, 3}\n",
        "set4 = {2, 3, 4}\n",
        "print(set3.intersection(set4))  # Output: {2, 3}"
      ]
    },
    {
      "cell_type": "code",
      "execution_count": 23,
      "metadata": {
        "colab": {
          "base_uri": "https://localhost:8080/"
        },
        "id": "e4nxv8UigEl0",
        "outputId": "f8ab8e7d-5de5-4dd2-d2d6-4d3ff0014174"
      },
      "outputs": [
        {
          "name": "stdout",
          "output_type": "stream",
          "text": [
            "{'name': 'Alice', 'age': 30, 'city': 'New York'}\n"
          ]
        }
      ],
      "source": [
        "# 21. Write a code to create a dictionary with the keys \"name\", \"age\", and \"city\", and print it.\n",
        "person = {\"name\": \"Alice\", \"age\": 30, \"city\": \"New York\"}\n",
        "print(person)"
      ]
    },
    {
      "cell_type": "code",
      "execution_count": 24,
      "metadata": {
        "colab": {
          "base_uri": "https://localhost:8080/"
        },
        "id": "AMHMzEV0gEtC",
        "outputId": "4f518e21-afc6-44f9-a034-f6fde33200fa"
      },
      "outputs": [
        {
          "name": "stdout",
          "output_type": "stream",
          "text": [
            "{'name': 'John', 'age': 25, 'country': 'USA'}\n"
          ]
        }
      ],
      "source": [
        "\n",
        "# 22. Write a code to add a new key-value pair \"country\": \"USA\" to the dictionary {'name': 'John', 'age': 25}.\n",
        "person_2 = {'name': 'John', 'age': 25}\n",
        "person_2[\"country\"] = \"USA\"\n",
        "print(person_2)"
      ]
    },
    {
      "cell_type": "code",
      "execution_count": 25,
      "metadata": {
        "colab": {
          "base_uri": "https://localhost:8080/"
        },
        "id": "5dztFbmKgKzm",
        "outputId": "8a1d8311-1f32-44df-d426-55abec333c32"
      },
      "outputs": [
        {
          "name": "stdout",
          "output_type": "stream",
          "text": [
            "Alice\n"
          ]
        }
      ],
      "source": [
        "# 23. Write a code to access the value associated with the key \"name\" in the dictionary {'name': 'Alice', 'age': 30}.\n",
        "person_3 = {'name': 'Alice', 'age': 30}\n",
        "print(person_3[\"name\"])"
      ]
    },
    {
      "cell_type": "code",
      "execution_count": 26,
      "metadata": {
        "colab": {
          "base_uri": "https://localhost:8080/"
        },
        "id": "_QGWAT9bgK7F",
        "outputId": "91f65697-5167-4458-ff11-f736ea0c2dfd"
      },
      "outputs": [
        {
          "name": "stdout",
          "output_type": "stream",
          "text": [
            "{'name': 'Bob', 'city': 'New York'}\n"
          ]
        }
      ],
      "source": [
        "# 24. Write a code to remove the key \"age\" from the dictionary {'name': 'Bob', 'age': 22, 'city': 'New York'}.\n",
        "person_4 = {'name': 'Bob', 'age': 22, 'city': 'New York'}\n",
        "del person_4[\"age\"]\n",
        "print(person_4)\n"
      ]
    },
    {
      "cell_type": "code",
      "execution_count": 27,
      "metadata": {
        "colab": {
          "base_uri": "https://localhost:8080/"
        },
        "id": "opuE4hE3gLIK",
        "outputId": "3f7478d3-ce14-482c-bff4-5c5df38ca23e"
      },
      "outputs": [
        {
          "name": "stdout",
          "output_type": "stream",
          "text": [
            "True\n"
          ]
        }
      ],
      "source": [
        "\n",
        "# 25. Write a code to check if the key \"city\" exists in the dictionary {'name': 'Alice', 'city': 'Paris'}.\n",
        "person_5 = {'name': 'Alice', 'city': 'Paris'}\n",
        "print(\"city\" in person_5)"
      ]
    },
    {
      "cell_type": "code",
      "execution_count": 28,
      "metadata": {
        "colab": {
          "base_uri": "https://localhost:8080/"
        },
        "id": "iPL48gWDgRD_",
        "outputId": "5eeb650c-77e0-4983-ccb7-32e115a8536c"
      },
      "outputs": [
        {
          "name": "stdout",
          "output_type": "stream",
          "text": [
            "[1, 2, 3, 4, 5] (10, 20, 30) {'fruit': 'apple', 'color': 'red'}\n"
          ]
        }
      ],
      "source": [
        "# 26. Write a code to create a list, a tuple, and a dictionary, and print them all.\n",
        "my_list = [1, 2, 3, 4, 5]\n",
        "my_tuple = (10, 20, 30)\n",
        "my_dict = {\"fruit\": \"apple\", \"color\": \"red\"}\n",
        "print(my_list, my_tuple, my_dict)\n"
      ]
    },
    {
      "cell_type": "code",
      "execution_count": 39,
      "metadata": {
        "colab": {
          "base_uri": "https://localhost:8080/"
        },
        "id": "Hs717uSogRN_",
        "outputId": "824f2323-8633-43be-8b51-722fc2922e7e"
      },
      "outputs": [
        {
          "name": "stdout",
          "output_type": "stream",
          "text": [
            "[28419]\n"
          ]
        }
      ],
      "source": [
        "# 27. Write a code to create a list of 5 random numbers between 1 and 100, sort it in ascending order, and print the result.\n",
        "import random\n",
        "random_numbers = random.sample(range(1,100000),1)\n",
        "random_numbers.sort()\n",
        "print(random_numbers)"
      ]
    },
    {
      "cell_type": "code",
      "execution_count": 30,
      "metadata": {
        "colab": {
          "base_uri": "https://localhost:8080/"
        },
        "id": "muwUIkltgRW0",
        "outputId": "90204b73-8902-4436-91b1-574f427857ce"
      },
      "outputs": [
        {
          "name": "stdout",
          "output_type": "stream",
          "text": [
            "date\n"
          ]
        }
      ],
      "source": [
        "# 28. Write a code to create a list with strings and print the element at the third index.\n",
        "string_list = [\"apple\", \"banana\", \"cherry\", \"date\", \"elderberry\"]\n",
        "print(string_list[3])  # Output: \"date\""
      ]
    },
    {
      "cell_type": "code",
      "execution_count": 31,
      "metadata": {
        "colab": {
          "base_uri": "https://localhost:8080/"
        },
        "id": "ulZkMfkWgYfk",
        "outputId": "2913fea6-5560-4f5d-b2fc-37617fed098b"
      },
      "outputs": [
        {
          "name": "stdout",
          "output_type": "stream",
          "text": [
            "{'a': 1, 'b': 2, 'c': 3, 'd': 4}\n"
          ]
        }
      ],
      "source": [
        "# 29. Write a code to combine two dictionaries into one and print the result.\n",
        "dict1 = {\"a\": 1, \"b\": 2}\n",
        "dict2 = {\"c\": 3, \"d\": 4}\n",
        "combined_dict = {**dict1, **dict2}  # Merging dictionaries\n",
        "print(combined_dict)\n"
      ]
    },
    {
      "cell_type": "code",
      "execution_count": 32,
      "metadata": {
        "colab": {
          "base_uri": "https://localhost:8080/"
        },
        "id": "Rx-pRZxTfukn",
        "outputId": "75b65e66-716a-4949-8dbc-497ee27d0d0c"
      },
      "outputs": [
        {
          "name": "stdout",
          "output_type": "stream",
          "text": [
            "{'apple', 'banana', 'cherry'}\n"
          ]
        }
      ],
      "source": [
        "# 30. Write a code to convert a list of strings into a set.\n",
        "string_list_2 = [\"apple\", \"banana\", \"apple\", \"cherry\"]\n",
        "string_set = set(string_list_2)\n",
        "print(string_set)"
      ]
    },
    {
      "cell_type": "code",
      "execution_count": 32,
      "metadata": {
        "id": "20obWrgRgfV8"
      },
      "outputs": [],
      "source": []
    },
    {
      "cell_type": "code",
      "execution_count": null,
      "metadata": {
        "id": "KCKMsFP-ghUu"
      },
      "outputs": [],
      "source": []
    }
  ],
  "metadata": {
    "colab": {
      "provenance": []
    },
    "kernelspec": {
      "display_name": "Python 3",
      "name": "python3"
    },
    "language_info": {
      "codemirror_mode": {
        "name": "ipython",
        "version": 3
      },
      "file_extension": ".py",
      "mimetype": "text/x-python",
      "name": "python",
      "nbconvert_exporter": "python",
      "pygments_lexer": "ipython3",
      "version": "3.13.2"
    }
  },
  "nbformat": 4,
  "nbformat_minor": 0
}
