{
  "nbformat": 4,
  "nbformat_minor": 0,
  "metadata": {
    "colab": {
      "provenance": []
    },
    "kernelspec": {
      "name": "python3",
      "display_name": "Python 3"
    },
    "language_info": {
      "name": "python"
    }
  },
  "cells": [
    {
      "cell_type": "code",
      "execution_count": null,
      "metadata": {
        "id": "dzwk93qWUVCn"
      },
      "outputs": [],
      "source": []
    },
    {
      "cell_type": "markdown",
      "source": [
        "Sure! Here are all the answers in the exact format you specified, ready to be pasted into a Jupyter Notebook markdown cell:\n",
        "\n",
        "---\n",
        "\n",
        "## 1. What is a RESTful API?  \n",
        "A RESTful API follows REST (Representational State Transfer) principles, allowing systems to communicate using standard HTTP methods like GET, POST, PUT, DELETE.\n",
        "\n",
        "---\n",
        "\n",
        "## 2. Explain the concept of API specification.  \n",
        "An API specification defines the structure, endpoints, data formats, and behaviors of an API. It acts as a contract between the API provider and consumer, ensuring clarity and consistency.\n",
        "\n",
        "---\n",
        "\n",
        "## 3. What is Flask, and why is it popular for building APIs?  \n",
        "Flask is a lightweight Python web framework that is popular for building APIs due to its simplicity, flexibility, minimalism, and ease of integration with extensions.\n",
        "\n",
        "---\n",
        "\n",
        "## 4. What is routing in Flask?  \n",
        "Routing in Flask refers to mapping URLs to specific functions (view functions) that are executed when a request matches the route.\n",
        "\n",
        "---\n",
        "\n",
        "## 5. How do you create a simple Flask application?  \n",
        "By importing Flask, creating an app instance, and defining routes using decorators.  \n",
        "```python\n",
        "from flask import Flask  \n",
        "app = Flask(__name__)  \n",
        "\n",
        "@app.route('/')  \n",
        "def home():  \n",
        "    return \"Hello, World!\"  \n",
        "\n",
        "if __name__ == '__main__':  \n",
        "    app.run()\n",
        "```\n",
        "\n",
        "---\n",
        "\n",
        "## 6. What are HTTP methods used in RESTful APIs?  \n",
        "Common HTTP methods include:  \n",
        "- GET  \n",
        "- POST  \n",
        "- PUT  \n",
        "- PATCH  \n",
        "- DELETE  \n",
        "\n",
        "---\n",
        "\n",
        "## 7. What is the purpose of the `@app.route()` decorator in Flask?  \n",
        "The `@app.route()` decorator binds a URL to a function, defining how the application should respond to a specific HTTP request.\n",
        "\n",
        "---\n",
        "\n",
        "## 8. What is the difference between GET and POST HTTP methods?  \n",
        "- GET: Retrieves data from the server and is idempotent.  \n",
        "- POST: Sends data to the server, typically used to create or submit data.\n",
        "\n",
        "---\n",
        "\n",
        "## 9. How do you handle errors in Flask APIs?  \n",
        "Errors can be handled using `@app.errorhandler()` decorators or by using the `abort()` function to send HTTP error codes.\n",
        "\n",
        "---\n",
        "\n",
        "## 10. How do you connect Flask to a SQL database?  \n",
        "By using extensions like Flask-SQLAlchemy, which integrates SQLAlchemy ORM with Flask.\n",
        "\n",
        "---\n",
        "\n",
        "## 11. What is the role of Flask-SQLAlchemy?  \n",
        "Flask-SQLAlchemy provides ORM capabilities, allowing developers to interact with relational databases using Python classes instead of SQL queries.\n",
        "\n",
        "---\n",
        "\n",
        "## 12. What are Flask blueprints, and how are they useful?  \n",
        "Blueprints allow splitting a Flask application into modular components, making the code more organized and maintainable.\n",
        "\n",
        "---\n",
        "\n",
        "## 13. What is the purpose of Flask’s request object?  \n",
        "The `request` object gives access to incoming request data, including form data, JSON payloads, headers, and more.\n",
        "\n",
        "---\n",
        "\n",
        "## 14. How do you create a RESTful API endpoint using Flask?  \n",
        "```python\n",
        "from flask import Flask, jsonify  \n",
        "app = Flask(__name__)  \n",
        "\n",
        "@app.route('/api/data', methods=['GET'])  \n",
        "def get_data():  \n",
        "    return jsonify({\"message\": \"Success\"})\n",
        "```\n",
        "\n",
        "---\n",
        "\n",
        "## 15. What is the purpose of Flask’s `jsonify()` function?  \n",
        "`jsonify()` is used to convert Python dictionaries into JSON responses with the appropriate `Content-Type` header.\n",
        "\n",
        "---\n",
        "\n",
        "## 16. Explain Flask’s `url_for()` function.  \n",
        "`url_for()` dynamically generates a URL for a given function, which helps in managing routes more effectively, especially during changes.\n",
        "\n",
        "---\n",
        "\n",
        "## 17. How does Flask handle static files (CSS, JavaScript, etc.)?  \n",
        "Flask serves static files from the `static/` directory by default, accessible through the `/static/` URL path.\n",
        "\n",
        "---\n",
        "\n",
        "## 18. What is an API specification, and how does it help in building a Flask API?  \n",
        "It defines how the API works, including endpoints, request/response structures, and status codes. This helps in ensuring consistency and simplifying development and documentation.\n",
        "\n",
        "---\n",
        "\n",
        "## 19. What are HTTP status codes, and why are they important in a Flask API?  \n",
        "HTTP status codes represent the result of a client request (e.g., 200 OK, 404 Not Found). They are important for indicating success or failure of API operations.\n",
        "\n",
        "---\n",
        "\n",
        "## 20. How do you handle POST requests in Flask?  \n",
        "```python\n",
        "from flask import request  \n",
        "\n",
        "@app.route('/submit', methods=['POST'])  \n",
        "def submit():  \n",
        "    data = request.get_json()  \n",
        "    return jsonify(data), 201\n",
        "```\n",
        "\n",
        "---\n",
        "\n",
        "## 21. How would you secure a Flask API?  \n",
        "By implementing authentication (e.g., JWT), HTTPS, input validation, rate limiting, CORS policies, and proper error handling.\n",
        "\n",
        "---\n",
        "\n",
        "## 22. What is the significance of the Flask-RESTful extension?  \n",
        "Flask-RESTful simplifies the creation of REST APIs by providing helpful tools like resource classes and request parsing.\n",
        "\n",
        "---\n",
        "\n",
        "## 23. What is the role of Flask’s session object?  \n",
        "The `session` object allows storage of user-specific data (like login status) across multiple requests using secure cookies.\n",
        "\n",
        "---\n",
        "\n",
        "Let me know if you'd like this converted into a downloadable `.ipynb` notebook!\n"
      ],
      "metadata": {
        "id": "NKYT892rUWvH"
      }
    },
    {
      "cell_type": "code",
      "source": [
        "# 1. How do you create a basic Flask application?\n",
        "\n",
        "from flask import Flask\n",
        "app = Flask(__name__)\n",
        "\n",
        "@app.route('/')\n",
        "def home():\n",
        "    return \"Hello, Flask!\"\n",
        "\n",
        "if __name__ == '__main__':\n",
        "    app.run(debug=True)"
      ],
      "metadata": {
        "id": "C6isB_YTUvCz"
      },
      "execution_count": null,
      "outputs": []
    },
    {
      "cell_type": "code",
      "source": [
        "# 2. How do you serve static files like images or CSS in Flask?\n",
        "# - Place your files in the static/ directory. Use them in HTML like:\n",
        "\n",
        "<link rel=\"stylesheet\" href=\"{{ url_for('static', filename='style.css') }}\">"
      ],
      "metadata": {
        "id": "dLIroW35VRW0"
      },
      "execution_count": null,
      "outputs": []
    },
    {
      "cell_type": "code",
      "source": [
        "# 3. How do you define different routes with different HTTP methods in Flask?\n",
        "\n",
        "@app.route('/submit', methods=['GET', 'POST'])\n",
        "def submit():\n",
        "    if request.method == 'POST':\n",
        "        return \"Posted!\"\n",
        "    return \"Submit Form\"\n",
        "\n"
      ],
      "metadata": {
        "id": "o20a70t_VRPr"
      },
      "execution_count": null,
      "outputs": []
    },
    {
      "cell_type": "code",
      "source": [
        "# 4. How do you render HTML templates in Flask?\n",
        "\n",
        "from flask import render_template\n",
        "@app.route('/about')\n",
        "def about():\n",
        "    return render_template('about.html')"
      ],
      "metadata": {
        "id": "ehXgq21LVRKg"
      },
      "execution_count": null,
      "outputs": []
    },
    {
      "cell_type": "code",
      "source": [
        "# 5. How can you generate URLs for routes in Flask using url_for()?\n",
        "\n",
        "url_for('home')  # Returns the URL for the 'home' function\n"
      ],
      "metadata": {
        "id": "K3fchwycVgPt"
      },
      "execution_count": null,
      "outputs": []
    },
    {
      "cell_type": "code",
      "source": [
        "# 6. How do you handle forms in Flask?\n",
        "\n",
        "@app.route('/form', methods=['POST'])\n",
        "def form():\n",
        "    name = request.form['name']\n",
        "    return f\"Hello {name}\""
      ],
      "metadata": {
        "id": "lNbIl9kpVjuK"
      },
      "execution_count": null,
      "outputs": []
    },
    {
      "cell_type": "code",
      "source": [
        "# 7. How can you validate form data in Flask?\n",
        "if not request.form['email']:\n",
        "    return \"Email is required\", 400"
      ],
      "metadata": {
        "id": "KaBoJrDHVjrT"
      },
      "execution_count": null,
      "outputs": []
    },
    {
      "cell_type": "code",
      "source": [
        "# 8. How do you manage sessions in Flask?\n",
        "\n",
        "app.secret_key = 'your_secret_key'\n",
        "session['user'] = 'John'"
      ],
      "metadata": {
        "id": "lG4zQFzcVjor"
      },
      "execution_count": null,
      "outputs": []
    },
    {
      "cell_type": "code",
      "source": [
        "# 9. How do you redirect to a different route in Flask?\n",
        "\n",
        "from flask import redirect, url_for\n",
        "return redirect(url_for('home'))"
      ],
      "metadata": {
        "id": "CsKFgBhqVzUM"
      },
      "execution_count": null,
      "outputs": []
    },
    {
      "cell_type": "code",
      "source": [
        "# 10. How do you handle errors in Flask (e.g., 404)?\n",
        "\n",
        "@app.errorhandler(404)\n",
        "def page_not_found(e):\n",
        "    return \"Page not found\", 404"
      ],
      "metadata": {
        "id": "85hCzsjfV2rN"
      },
      "execution_count": null,
      "outputs": []
    },
    {
      "cell_type": "code",
      "source": [
        "# 11. How do you structure a Flask app using Blueprints?\n",
        "## views.py\n",
        "\n",
        "\n",
        "from flask import Blueprint\n",
        "bp = Blueprint('views', __name__)\n",
        "\n",
        "@bp.route('/dashboard')\n",
        "def dashboard():\n",
        "    return \"Dashboard\"\n",
        "## app.py\n",
        "\n",
        "from views import bp\n",
        "app.register_blueprint(bp)"
      ],
      "metadata": {
        "id": "1c3u4upxV2lW"
      },
      "execution_count": null,
      "outputs": []
    },
    {
      "cell_type": "code",
      "source": [
        "# 12. How do you define a custom Jinja filter in Flask?\n",
        "\n",
        "@app.template_filter('reverse')\n",
        "def reverse_filter(s):\n",
        "    return s[::-1]"
      ],
      "metadata": {
        "id": "KPvBg-KSV2ej"
      },
      "execution_count": null,
      "outputs": []
    },
    {
      "cell_type": "code",
      "source": [
        "# 13. How can you redirect with query parameters in Flask?\n",
        "\n",
        "return redirect(url_for('search', q='flask'))"
      ],
      "metadata": {
        "id": "beJqq7EHV2Uf"
      },
      "execution_count": null,
      "outputs": []
    },
    {
      "cell_type": "code",
      "source": [
        "# 14. How do you return JSON responses in Flask?\n",
        "\n",
        "from flask import jsonify\n",
        "return jsonify({'name': 'Flask', 'version': '2.0'})"
      ],
      "metadata": {
        "id": "--uSWqh2WLl4"
      },
      "execution_count": null,
      "outputs": []
    },
    {
      "cell_type": "code",
      "source": [
        "# 15. How do you capture URL parameters in Flask?\n",
        "\n",
        "@app.route('/user/<username>')\n",
        "def show_user(username):\n",
        "    return f\"User: {username}\""
      ],
      "metadata": {
        "id": "Oh-KO-_bWLbu"
      },
      "execution_count": null,
      "outputs": []
    },
    {
      "cell_type": "code",
      "source": [],
      "metadata": {
        "id": "ArIIh1bTWToE"
      },
      "execution_count": null,
      "outputs": []
    }
  ]
}